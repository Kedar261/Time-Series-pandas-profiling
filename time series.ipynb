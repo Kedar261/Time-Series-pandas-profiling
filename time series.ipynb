{
 "cells": [
  {
   "cell_type": "code",
   "execution_count": 3,
   "id": "7f609791",
   "metadata": {},
   "outputs": [
    {
     "name": "stdout",
     "output_type": "stream",
     "text": [
      "Requirement already satisfied: pandas-profiling in d:\\anaconda\\lib\\site-packages (3.1.0)\n",
      "Requirement already satisfied: matplotlib>=3.2.0 in d:\\anaconda\\lib\\site-packages (from pandas-profiling) (3.3.4)\n",
      "Requirement already satisfied: markupsafe~=2.0.1 in d:\\anaconda\\lib\\site-packages (from pandas-profiling) (2.0.1)\n",
      "Requirement already satisfied: htmlmin>=0.1.12 in d:\\anaconda\\lib\\site-packages (from pandas-profiling) (0.1.12)\n",
      "Requirement already satisfied: joblib~=1.0.1 in d:\\anaconda\\lib\\site-packages (from pandas-profiling) (1.0.1)\n",
      "Requirement already satisfied: tqdm>=4.48.2 in d:\\anaconda\\lib\\site-packages (from pandas-profiling) (4.59.0)\n",
      "Requirement already satisfied: missingno>=0.4.2 in d:\\anaconda\\lib\\site-packages (from pandas-profiling) (0.5.0)\n",
      "Requirement already satisfied: multimethod>=1.4 in d:\\anaconda\\lib\\site-packages (from pandas-profiling) (1.7)\n",
      "Requirement already satisfied: requests>=2.24.0 in d:\\anaconda\\lib\\site-packages (from pandas-profiling) (2.25.1)\n",
      "Requirement already satisfied: seaborn>=0.10.1 in d:\\anaconda\\lib\\site-packages (from pandas-profiling) (0.11.1)\n",
      "Requirement already satisfied: phik>=0.11.1 in d:\\anaconda\\lib\\site-packages (from pandas-profiling) (0.12.2)\n",
      "Requirement already satisfied: tangled-up-in-unicode==0.1.0 in d:\\anaconda\\lib\\site-packages (from pandas-profiling) (0.1.0)\n",
      "Requirement already satisfied: pydantic>=1.8.1 in d:\\anaconda\\lib\\site-packages (from pandas-profiling) (1.9.0)\n",
      "Requirement already satisfied: visions[type_image_path]==0.7.4 in d:\\anaconda\\lib\\site-packages (from pandas-profiling) (0.7.4)\n",
      "Requirement already satisfied: PyYAML>=5.0.0 in d:\\anaconda\\lib\\site-packages (from pandas-profiling) (5.4.1)\n",
      "Requirement already satisfied: jinja2>=2.11.1 in d:\\anaconda\\lib\\site-packages (from pandas-profiling) (2.11.3)\n",
      "Requirement already satisfied: scipy>=1.4.1 in d:\\anaconda\\lib\\site-packages (from pandas-profiling) (1.6.2)\n",
      "Requirement already satisfied: pandas!=1.0.0,!=1.0.1,!=1.0.2,!=1.1.0,>=0.25.3 in d:\\anaconda\\lib\\site-packages (from pandas-profiling) (1.2.4)\n",
      "Requirement already satisfied: numpy>=1.16.0 in d:\\anaconda\\lib\\site-packages (from pandas-profiling) (1.20.1)\n",
      "Requirement already satisfied: attrs>=19.3.0 in d:\\anaconda\\lib\\site-packages (from visions[type_image_path]==0.7.4->pandas-profiling) (20.3.0)\n",
      "Requirement already satisfied: networkx>=2.4 in d:\\anaconda\\lib\\site-packages (from visions[type_image_path]==0.7.4->pandas-profiling) (2.5)\n",
      "Requirement already satisfied: Pillow in d:\\anaconda\\lib\\site-packages (from visions[type_image_path]==0.7.4->pandas-profiling) (8.2.0)\n",
      "Requirement already satisfied: imagehash in d:\\anaconda\\lib\\site-packages (from visions[type_image_path]==0.7.4->pandas-profiling) (4.2.1)\n",
      "Requirement already satisfied: python-dateutil>=2.1 in d:\\anaconda\\lib\\site-packages (from matplotlib>=3.2.0->pandas-profiling) (2.8.1)\n",
      "Requirement already satisfied: cycler>=0.10 in d:\\anaconda\\lib\\site-packages (from matplotlib>=3.2.0->pandas-profiling) (0.10.0)\n",
      "Requirement already satisfied: kiwisolver>=1.0.1 in d:\\anaconda\\lib\\site-packages (from matplotlib>=3.2.0->pandas-profiling) (1.3.1)\n",
      "Requirement already satisfied: pyparsing!=2.0.4,!=2.1.2,!=2.1.6,>=2.0.3 in d:\\anaconda\\lib\\site-packages (from matplotlib>=3.2.0->pandas-profiling) (2.4.7)\n",
      "Requirement already satisfied: six in d:\\anaconda\\lib\\site-packages (from cycler>=0.10->matplotlib>=3.2.0->pandas-profiling) (1.15.0)\n",
      "Requirement already satisfied: decorator>=4.3.0 in d:\\anaconda\\lib\\site-packages (from networkx>=2.4->visions[type_image_path]==0.7.4->pandas-profiling) (5.0.6)\n",
      "Requirement already satisfied: pytz>=2017.3 in d:\\anaconda\\lib\\site-packages (from pandas!=1.0.0,!=1.0.1,!=1.0.2,!=1.1.0,>=0.25.3->pandas-profiling) (2021.1)\n",
      "Requirement already satisfied: typing-extensions>=3.7.4.3 in d:\\anaconda\\lib\\site-packages (from pydantic>=1.8.1->pandas-profiling) (3.7.4.3)\n",
      "Requirement already satisfied: urllib3<1.27,>=1.21.1 in d:\\anaconda\\lib\\site-packages (from requests>=2.24.0->pandas-profiling) (1.26.4)\n",
      "Requirement already satisfied: idna<3,>=2.5 in d:\\anaconda\\lib\\site-packages (from requests>=2.24.0->pandas-profiling) (2.10)\n",
      "Requirement already satisfied: chardet<5,>=3.0.2 in d:\\anaconda\\lib\\site-packages (from requests>=2.24.0->pandas-profiling) (4.0.0)\n",
      "Requirement already satisfied: certifi>=2017.4.17 in d:\\anaconda\\lib\\site-packages (from requests>=2.24.0->pandas-profiling) (2020.12.5)\n",
      "Requirement already satisfied: PyWavelets in d:\\anaconda\\lib\\site-packages (from imagehash->visions[type_image_path]==0.7.4->pandas-profiling) (1.1.1)\n",
      "Note: you may need to restart the kernel to use updated packages.\n"
     ]
    }
   ],
   "source": [
    "pip install pandas-profiling"
   ]
  },
  {
   "cell_type": "code",
   "execution_count": 3,
   "id": "91086cb5",
   "metadata": {},
   "outputs": [
    {
     "data": {
      "text/html": [
       "<div>\n",
       "<style scoped>\n",
       "    .dataframe tbody tr th:only-of-type {\n",
       "        vertical-align: middle;\n",
       "    }\n",
       "\n",
       "    .dataframe tbody tr th {\n",
       "        vertical-align: top;\n",
       "    }\n",
       "\n",
       "    .dataframe thead th {\n",
       "        text-align: right;\n",
       "    }\n",
       "</style>\n",
       "<table border=\"1\" class=\"dataframe\">\n",
       "  <thead>\n",
       "    <tr style=\"text-align: right;\">\n",
       "      <th></th>\n",
       "      <th>company_id</th>\n",
       "      <th>company_type</th>\n",
       "      <th>date</th>\n",
       "      <th>avg_pesq_score</th>\n",
       "      <th>quality_too_poor</th>\n",
       "      <th>number_busy</th>\n",
       "      <th>temporarily_unable_test</th>\n",
       "      <th>outage_sec</th>\n",
       "      <th>number_test_types</th>\n",
       "      <th>numbers_tested</th>\n",
       "      <th>followup_tests</th>\n",
       "      <th>min_commit</th>\n",
       "      <th>has_min_commit</th>\n",
       "      <th>volume_tests</th>\n",
       "      <th>is_testing</th>\n",
       "    </tr>\n",
       "  </thead>\n",
       "  <tbody>\n",
       "    <tr>\n",
       "      <th>0</th>\n",
       "      <td>1</td>\n",
       "      <td>Conference</td>\n",
       "      <td>2018-01-01</td>\n",
       "      <td>4.183942</td>\n",
       "      <td>1</td>\n",
       "      <td>86</td>\n",
       "      <td>0</td>\n",
       "      <td>6680.24</td>\n",
       "      <td>2</td>\n",
       "      <td>2562</td>\n",
       "      <td>0</td>\n",
       "      <td>100000.0</td>\n",
       "      <td>1</td>\n",
       "      <td>4590</td>\n",
       "      <td>1</td>\n",
       "    </tr>\n",
       "    <tr>\n",
       "      <th>1</th>\n",
       "      <td>2</td>\n",
       "      <td>Enterprise</td>\n",
       "      <td>2018-01-01</td>\n",
       "      <td>3.692000</td>\n",
       "      <td>4</td>\n",
       "      <td>246</td>\n",
       "      <td>0</td>\n",
       "      <td>2208.22</td>\n",
       "      <td>2</td>\n",
       "      <td>2410</td>\n",
       "      <td>100</td>\n",
       "      <td>400000.0</td>\n",
       "      <td>1</td>\n",
       "      <td>35405</td>\n",
       "      <td>1</td>\n",
       "    </tr>\n",
       "    <tr>\n",
       "      <th>2</th>\n",
       "      <td>4</td>\n",
       "      <td>Enterprise</td>\n",
       "      <td>2018-01-01</td>\n",
       "      <td>0.000000</td>\n",
       "      <td>0</td>\n",
       "      <td>1</td>\n",
       "      <td>0</td>\n",
       "      <td>0.00</td>\n",
       "      <td>1</td>\n",
       "      <td>207</td>\n",
       "      <td>0</td>\n",
       "      <td>1500.0</td>\n",
       "      <td>1</td>\n",
       "      <td>302</td>\n",
       "      <td>1</td>\n",
       "    </tr>\n",
       "    <tr>\n",
       "      <th>3</th>\n",
       "      <td>6</td>\n",
       "      <td>Conference</td>\n",
       "      <td>2018-01-01</td>\n",
       "      <td>3.971564</td>\n",
       "      <td>0</td>\n",
       "      <td>0</td>\n",
       "      <td>0</td>\n",
       "      <td>695.99</td>\n",
       "      <td>2</td>\n",
       "      <td>62</td>\n",
       "      <td>0</td>\n",
       "      <td>5715.0</td>\n",
       "      <td>1</td>\n",
       "      <td>167</td>\n",
       "      <td>1</td>\n",
       "    </tr>\n",
       "    <tr>\n",
       "      <th>4</th>\n",
       "      <td>10</td>\n",
       "      <td>Enterprise</td>\n",
       "      <td>2018-01-01</td>\n",
       "      <td>3.371562</td>\n",
       "      <td>0</td>\n",
       "      <td>0</td>\n",
       "      <td>0</td>\n",
       "      <td>0.00</td>\n",
       "      <td>1</td>\n",
       "      <td>13</td>\n",
       "      <td>0</td>\n",
       "      <td>NaN</td>\n",
       "      <td>0</td>\n",
       "      <td>672</td>\n",
       "      <td>1</td>\n",
       "    </tr>\n",
       "    <tr>\n",
       "      <th>...</th>\n",
       "      <td>...</td>\n",
       "      <td>...</td>\n",
       "      <td>...</td>\n",
       "      <td>...</td>\n",
       "      <td>...</td>\n",
       "      <td>...</td>\n",
       "      <td>...</td>\n",
       "      <td>...</td>\n",
       "      <td>...</td>\n",
       "      <td>...</td>\n",
       "      <td>...</td>\n",
       "      <td>...</td>\n",
       "      <td>...</td>\n",
       "      <td>...</td>\n",
       "      <td>...</td>\n",
       "    </tr>\n",
       "    <tr>\n",
       "      <th>108755</th>\n",
       "      <td>420</td>\n",
       "      <td>Enterprise</td>\n",
       "      <td>2021-03-25</td>\n",
       "      <td>0.000000</td>\n",
       "      <td>0</td>\n",
       "      <td>0</td>\n",
       "      <td>0</td>\n",
       "      <td>0.00</td>\n",
       "      <td>1</td>\n",
       "      <td>2</td>\n",
       "      <td>0</td>\n",
       "      <td>NaN</td>\n",
       "      <td>0</td>\n",
       "      <td>8</td>\n",
       "      <td>1</td>\n",
       "    </tr>\n",
       "    <tr>\n",
       "      <th>108756</th>\n",
       "      <td>444</td>\n",
       "      <td>Carrier</td>\n",
       "      <td>2021-03-25</td>\n",
       "      <td>3.896667</td>\n",
       "      <td>0</td>\n",
       "      <td>5</td>\n",
       "      <td>0</td>\n",
       "      <td>2.72</td>\n",
       "      <td>2</td>\n",
       "      <td>7</td>\n",
       "      <td>0</td>\n",
       "      <td>NaN</td>\n",
       "      <td>0</td>\n",
       "      <td>20</td>\n",
       "      <td>1</td>\n",
       "    </tr>\n",
       "    <tr>\n",
       "      <th>108757</th>\n",
       "      <td>447</td>\n",
       "      <td>Enterprise</td>\n",
       "      <td>2021-03-25</td>\n",
       "      <td>3.809369</td>\n",
       "      <td>1</td>\n",
       "      <td>13</td>\n",
       "      <td>0</td>\n",
       "      <td>449.10</td>\n",
       "      <td>2</td>\n",
       "      <td>121</td>\n",
       "      <td>0</td>\n",
       "      <td>NaN</td>\n",
       "      <td>0</td>\n",
       "      <td>280</td>\n",
       "      <td>1</td>\n",
       "    </tr>\n",
       "    <tr>\n",
       "      <th>108758</th>\n",
       "      <td>450</td>\n",
       "      <td>Enterprise</td>\n",
       "      <td>2021-03-25</td>\n",
       "      <td>0.000000</td>\n",
       "      <td>0</td>\n",
       "      <td>0</td>\n",
       "      <td>0</td>\n",
       "      <td>0.00</td>\n",
       "      <td>0</td>\n",
       "      <td>0</td>\n",
       "      <td>0</td>\n",
       "      <td>NaN</td>\n",
       "      <td>0</td>\n",
       "      <td>0</td>\n",
       "      <td>0</td>\n",
       "    </tr>\n",
       "    <tr>\n",
       "      <th>108759</th>\n",
       "      <td>455</td>\n",
       "      <td>Enterprise</td>\n",
       "      <td>2021-03-25</td>\n",
       "      <td>0.000000</td>\n",
       "      <td>0</td>\n",
       "      <td>0</td>\n",
       "      <td>0</td>\n",
       "      <td>0.00</td>\n",
       "      <td>0</td>\n",
       "      <td>0</td>\n",
       "      <td>0</td>\n",
       "      <td>NaN</td>\n",
       "      <td>0</td>\n",
       "      <td>0</td>\n",
       "      <td>0</td>\n",
       "    </tr>\n",
       "  </tbody>\n",
       "</table>\n",
       "<p>108760 rows × 15 columns</p>\n",
       "</div>"
      ],
      "text/plain": [
       "        company_id company_type        date  avg_pesq_score  quality_too_poor  \\\n",
       "0                1   Conference  2018-01-01        4.183942                 1   \n",
       "1                2   Enterprise  2018-01-01        3.692000                 4   \n",
       "2                4   Enterprise  2018-01-01        0.000000                 0   \n",
       "3                6   Conference  2018-01-01        3.971564                 0   \n",
       "4               10   Enterprise  2018-01-01        3.371562                 0   \n",
       "...            ...          ...         ...             ...               ...   \n",
       "108755         420   Enterprise  2021-03-25        0.000000                 0   \n",
       "108756         444      Carrier  2021-03-25        3.896667                 0   \n",
       "108757         447   Enterprise  2021-03-25        3.809369                 1   \n",
       "108758         450   Enterprise  2021-03-25        0.000000                 0   \n",
       "108759         455   Enterprise  2021-03-25        0.000000                 0   \n",
       "\n",
       "        number_busy  temporarily_unable_test  outage_sec  number_test_types  \\\n",
       "0                86                        0     6680.24                  2   \n",
       "1               246                        0     2208.22                  2   \n",
       "2                 1                        0        0.00                  1   \n",
       "3                 0                        0      695.99                  2   \n",
       "4                 0                        0        0.00                  1   \n",
       "...             ...                      ...         ...                ...   \n",
       "108755            0                        0        0.00                  1   \n",
       "108756            5                        0        2.72                  2   \n",
       "108757           13                        0      449.10                  2   \n",
       "108758            0                        0        0.00                  0   \n",
       "108759            0                        0        0.00                  0   \n",
       "\n",
       "        numbers_tested  followup_tests  min_commit  has_min_commit  \\\n",
       "0                 2562               0    100000.0               1   \n",
       "1                 2410             100    400000.0               1   \n",
       "2                  207               0      1500.0               1   \n",
       "3                   62               0      5715.0               1   \n",
       "4                   13               0         NaN               0   \n",
       "...                ...             ...         ...             ...   \n",
       "108755               2               0         NaN               0   \n",
       "108756               7               0         NaN               0   \n",
       "108757             121               0         NaN               0   \n",
       "108758               0               0         NaN               0   \n",
       "108759               0               0         NaN               0   \n",
       "\n",
       "        volume_tests  is_testing  \n",
       "0               4590           1  \n",
       "1              35405           1  \n",
       "2                302           1  \n",
       "3                167           1  \n",
       "4                672           1  \n",
       "...              ...         ...  \n",
       "108755             8           1  \n",
       "108756            20           1  \n",
       "108757           280           1  \n",
       "108758             0           0  \n",
       "108759             0           0  \n",
       "\n",
       "[108760 rows x 15 columns]"
      ]
     },
     "execution_count": 3,
     "metadata": {},
     "output_type": "execute_result"
    }
   ],
   "source": [
    "import pandas as pd\n",
    "df = pd.read_csv(\"test_volume_data.csv\")\n",
    "df"
   ]
  },
  {
   "cell_type": "code",
   "execution_count": 4,
   "id": "c093b249",
   "metadata": {},
   "outputs": [
    {
     "name": "stdout",
     "output_type": "stream",
     "text": [
      "Requirement already satisfied: pandas-profiling in d:\\anaconda\\lib\\site-packages (3.1.0)\n",
      "Requirement already satisfied: PyYAML>=5.0.0 in d:\\anaconda\\lib\\site-packages (from pandas-profiling) (5.4.1)\n",
      "Requirement already satisfied: scipy>=1.4.1 in d:\\anaconda\\lib\\site-packages (from pandas-profiling) (1.6.2)\n",
      "Requirement already satisfied: seaborn>=0.10.1 in d:\\anaconda\\lib\\site-packages (from pandas-profiling) (0.11.1)\n",
      "Requirement already satisfied: joblib~=1.0.1 in d:\\anaconda\\lib\\site-packages (from pandas-profiling) (1.0.1)\n",
      "Requirement already satisfied: pandas!=1.0.0,!=1.0.1,!=1.0.2,!=1.1.0,>=0.25.3 in d:\\anaconda\\lib\\site-packages (from pandas-profiling) (1.2.4)\n",
      "Requirement already satisfied: jinja2>=2.11.1 in d:\\anaconda\\lib\\site-packages (from pandas-profiling) (2.11.3)\n",
      "Requirement already satisfied: visions[type_image_path]==0.7.4 in d:\\anaconda\\lib\\site-packages (from pandas-profiling) (0.7.4)\n",
      "Requirement already satisfied: missingno>=0.4.2 in d:\\anaconda\\lib\\site-packages (from pandas-profiling) (0.5.0)\n",
      "Requirement already satisfied: tangled-up-in-unicode==0.1.0 in d:\\anaconda\\lib\\site-packages (from pandas-profiling) (0.1.0)\n",
      "Requirement already satisfied: htmlmin>=0.1.12 in d:\\anaconda\\lib\\site-packages (from pandas-profiling) (0.1.12)\n",
      "Requirement already satisfied: numpy>=1.16.0 in d:\\anaconda\\lib\\site-packages (from pandas-profiling) (1.20.1)\n",
      "Requirement already satisfied: multimethod>=1.4 in d:\\anaconda\\lib\\site-packages (from pandas-profiling) (1.7)\n",
      "Requirement already satisfied: matplotlib>=3.2.0 in d:\\anaconda\\lib\\site-packages (from pandas-profiling) (3.3.4)\n",
      "Requirement already satisfied: markupsafe~=2.0.1 in d:\\anaconda\\lib\\site-packages (from pandas-profiling) (2.0.1)\n",
      "Requirement already satisfied: phik>=0.11.1 in d:\\anaconda\\lib\\site-packages (from pandas-profiling) (0.12.2)\n",
      "Requirement already satisfied: tqdm>=4.48.2 in d:\\anaconda\\lib\\site-packages (from pandas-profiling) (4.59.0)\n",
      "Requirement already satisfied: pydantic>=1.8.1 in d:\\anaconda\\lib\\site-packages (from pandas-profiling) (1.9.0)\n",
      "Requirement already satisfied: requests>=2.24.0 in d:\\anaconda\\lib\\site-packages (from pandas-profiling) (2.25.1)\n",
      "Requirement already satisfied: networkx>=2.4 in d:\\anaconda\\lib\\site-packages (from visions[type_image_path]==0.7.4->pandas-profiling) (2.5)\n",
      "Requirement already satisfied: attrs>=19.3.0 in d:\\anaconda\\lib\\site-packages (from visions[type_image_path]==0.7.4->pandas-profiling) (20.3.0)\n",
      "Requirement already satisfied: imagehash in d:\\anaconda\\lib\\site-packages (from visions[type_image_path]==0.7.4->pandas-profiling) (4.2.1)\n",
      "Requirement already satisfied: Pillow in d:\\anaconda\\lib\\site-packages (from visions[type_image_path]==0.7.4->pandas-profiling) (8.2.0)\n",
      "Requirement already satisfied: kiwisolver>=1.0.1 in d:\\anaconda\\lib\\site-packages (from matplotlib>=3.2.0->pandas-profiling) (1.3.1)\n",
      "Requirement already satisfied: python-dateutil>=2.1 in d:\\anaconda\\lib\\site-packages (from matplotlib>=3.2.0->pandas-profiling) (2.8.1)\n",
      "Requirement already satisfied: pyparsing!=2.0.4,!=2.1.2,!=2.1.6,>=2.0.3 in d:\\anaconda\\lib\\site-packages (from matplotlib>=3.2.0->pandas-profiling) (2.4.7)\n",
      "Requirement already satisfied: cycler>=0.10 in d:\\anaconda\\lib\\site-packages (from matplotlib>=3.2.0->pandas-profiling) (0.10.0)\n",
      "Requirement already satisfied: six in d:\\anaconda\\lib\\site-packages (from cycler>=0.10->matplotlib>=3.2.0->pandas-profiling) (1.15.0)\n",
      "Requirement already satisfied: decorator>=4.3.0 in d:\\anaconda\\lib\\site-packages (from networkx>=2.4->visions[type_image_path]==0.7.4->pandas-profiling) (5.0.6)\n",
      "Requirement already satisfied: pytz>=2017.3 in d:\\anaconda\\lib\\site-packages (from pandas!=1.0.0,!=1.0.1,!=1.0.2,!=1.1.0,>=0.25.3->pandas-profiling) (2021.1)\n",
      "Requirement already satisfied: typing-extensions>=3.7.4.3 in d:\\anaconda\\lib\\site-packages (from pydantic>=1.8.1->pandas-profiling) (3.7.4.3)\n",
      "Requirement already satisfied: idna<3,>=2.5 in d:\\anaconda\\lib\\site-packages (from requests>=2.24.0->pandas-profiling) (2.10)\n",
      "Requirement already satisfied: chardet<5,>=3.0.2 in d:\\anaconda\\lib\\site-packages (from requests>=2.24.0->pandas-profiling) (4.0.0)\n",
      "Requirement already satisfied: urllib3<1.27,>=1.21.1 in d:\\anaconda\\lib\\site-packages (from requests>=2.24.0->pandas-profiling) (1.26.4)\n",
      "Requirement already satisfied: certifi>=2017.4.17 in d:\\anaconda\\lib\\site-packages (from requests>=2.24.0->pandas-profiling) (2020.12.5)\n",
      "Requirement already satisfied: PyWavelets in d:\\anaconda\\lib\\site-packages (from imagehash->visions[type_image_path]==0.7.4->pandas-profiling) (1.1.1)\n"
     ]
    }
   ],
   "source": [
    "import sys\n",
    "!{sys.executable} -m pip install pandas-profiling"
   ]
  },
  {
   "cell_type": "code",
   "execution_count": 5,
   "id": "ad9bbac7",
   "metadata": {},
   "outputs": [],
   "source": [
    "from pandas_profiling import ProfileReport"
   ]
  },
  {
   "cell_type": "code",
   "execution_count": 6,
   "id": "c0eaa84a",
   "metadata": {},
   "outputs": [],
   "source": [
    "report  = ProfileReport(df, minimal = True, title= 'data')\n",
    "report.to_file('edareport.html')"
   ]
  },
  {
   "cell_type": "code",
   "execution_count": 8,
   "id": "a4945d64",
   "metadata": {},
   "outputs": [],
   "source": [
    "profile = ProfileReport(df)"
   ]
  },
  {
   "cell_type": "code",
   "execution_count": 9,
   "id": "8d29ebde",
   "metadata": {
    "scrolled": false
   },
   "outputs": [
    {
     "data": {
      "application/vnd.jupyter.widget-view+json": {
       "model_id": "b9cf0067c96d4d778b46e7f5a9349e09",
       "version_major": 2,
       "version_minor": 0
      },
      "text/plain": [
       "Tab(children=(HTML(value='<div id=\"overview-content\" class=\"row variable spacing\">\\n    <div class=\"row\">\\n   …"
      ]
     },
     "metadata": {},
     "output_type": "display_data"
    },
    {
     "data": {
      "text/html": [
       "Report generated with <a href=\"https://github.com/pandas-profiling/pandas-profiling\">pandas-profiling</a>."
      ],
      "text/plain": [
       "<IPython.core.display.HTML object>"
      ]
     },
     "metadata": {},
     "output_type": "display_data"
    },
    {
     "data": {
      "text/plain": []
     },
     "execution_count": 9,
     "metadata": {},
     "output_type": "execute_result"
    }
   ],
   "source": [
    "profile"
   ]
  },
  {
   "cell_type": "code",
   "execution_count": 10,
   "id": "c247c8fa",
   "metadata": {},
   "outputs": [
    {
     "name": "stdout",
     "output_type": "stream",
     "text": [
      "<class 'pandas.core.frame.DataFrame'>\n",
      "RangeIndex: 108760 entries, 0 to 108759\n",
      "Data columns (total 15 columns):\n",
      " #   Column                   Non-Null Count   Dtype  \n",
      "---  ------                   --------------   -----  \n",
      " 0   company_id               108760 non-null  int64  \n",
      " 1   company_type             108760 non-null  object \n",
      " 2   date                     108760 non-null  object \n",
      " 3   avg_pesq_score           108760 non-null  float64\n",
      " 4   quality_too_poor         108760 non-null  int64  \n",
      " 5   number_busy              108760 non-null  int64  \n",
      " 6   temporarily_unable_test  108760 non-null  int64  \n",
      " 7   outage_sec               108760 non-null  float64\n",
      " 8   number_test_types        108760 non-null  int64  \n",
      " 9   numbers_tested           108760 non-null  int64  \n",
      " 10  followup_tests           108760 non-null  int64  \n",
      " 11  min_commit               53438 non-null   float64\n",
      " 12  has_min_commit           108760 non-null  int64  \n",
      " 13  volume_tests             108760 non-null  int64  \n",
      " 14  is_testing               108760 non-null  int64  \n",
      "dtypes: float64(3), int64(10), object(2)\n",
      "memory usage: 12.4+ MB\n"
     ]
    },
    {
     "data": {
      "text/plain": [
       "(108760, 15)"
      ]
     },
     "execution_count": 10,
     "metadata": {},
     "output_type": "execute_result"
    }
   ],
   "source": [
    "df.info()\n",
    "df.shape"
   ]
  },
  {
   "cell_type": "code",
   "execution_count": 11,
   "id": "331d51a8",
   "metadata": {},
   "outputs": [
    {
     "data": {
      "text/plain": [
       "company_id                     0\n",
       "company_type                   0\n",
       "date                           0\n",
       "avg_pesq_score                 0\n",
       "quality_too_poor               0\n",
       "number_busy                    0\n",
       "temporarily_unable_test        0\n",
       "outage_sec                     0\n",
       "number_test_types              0\n",
       "numbers_tested                 0\n",
       "followup_tests                 0\n",
       "min_commit                 55322\n",
       "has_min_commit                 0\n",
       "volume_tests                   0\n",
       "is_testing                     0\n",
       "dtype: int64"
      ]
     },
     "execution_count": 11,
     "metadata": {},
     "output_type": "execute_result"
    }
   ],
   "source": [
    "df.isnull().sum()"
   ]
  },
  {
   "cell_type": "code",
   "execution_count": 12,
   "id": "4cf80e1e",
   "metadata": {},
   "outputs": [
    {
     "name": "stdout",
     "output_type": "stream",
     "text": [
      "Requirement already satisfied: pandas-datareader in d:\\anaconda\\lib\\site-packages (0.10.0)\n",
      "Requirement already satisfied: requests>=2.19.0 in d:\\anaconda\\lib\\site-packages (from pandas-datareader) (2.25.1)\n",
      "Requirement already satisfied: pandas>=0.23 in d:\\anaconda\\lib\\site-packages (from pandas-datareader) (1.2.4)\n",
      "Requirement already satisfied: lxml in d:\\anaconda\\lib\\site-packages (from pandas-datareader) (4.6.3)\n",
      "Requirement already satisfied: numpy>=1.16.5 in d:\\anaconda\\lib\\site-packages (from pandas>=0.23->pandas-datareader) (1.20.1)\n",
      "Requirement already satisfied: pytz>=2017.3 in d:\\anaconda\\lib\\site-packages (from pandas>=0.23->pandas-datareader) (2021.1)\n",
      "Requirement already satisfied: python-dateutil>=2.7.3 in d:\\anaconda\\lib\\site-packages (from pandas>=0.23->pandas-datareader) (2.8.1)\n",
      "Requirement already satisfied: six>=1.5 in d:\\anaconda\\lib\\site-packages (from python-dateutil>=2.7.3->pandas>=0.23->pandas-datareader) (1.15.0)\n",
      "Requirement already satisfied: idna<3,>=2.5 in d:\\anaconda\\lib\\site-packages (from requests>=2.19.0->pandas-datareader) (2.10)\n",
      "Requirement already satisfied: chardet<5,>=3.0.2 in d:\\anaconda\\lib\\site-packages (from requests>=2.19.0->pandas-datareader) (4.0.0)\n",
      "Requirement already satisfied: certifi>=2017.4.17 in d:\\anaconda\\lib\\site-packages (from requests>=2.19.0->pandas-datareader) (2020.12.5)\n",
      "Requirement already satisfied: urllib3<1.27,>=1.21.1 in d:\\anaconda\\lib\\site-packages (from requests>=2.19.0->pandas-datareader) (1.26.4)\n"
     ]
    }
   ],
   "source": [
    "!pip install pandas-datareader"
   ]
  },
  {
   "cell_type": "code",
   "execution_count": 13,
   "id": "756076e0",
   "metadata": {},
   "outputs": [],
   "source": [
    "import pandas_datareader as pdr\n",
    "from datetime import datetime"
   ]
  },
  {
   "cell_type": "code",
   "execution_count": 14,
   "id": "7051af92",
   "metadata": {},
   "outputs": [
    {
     "data": {
      "text/html": [
       "<div>\n",
       "<style scoped>\n",
       "    .dataframe tbody tr th:only-of-type {\n",
       "        vertical-align: middle;\n",
       "    }\n",
       "\n",
       "    .dataframe tbody tr th {\n",
       "        vertical-align: top;\n",
       "    }\n",
       "\n",
       "    .dataframe thead th {\n",
       "        text-align: right;\n",
       "    }\n",
       "</style>\n",
       "<table border=\"1\" class=\"dataframe\">\n",
       "  <thead>\n",
       "    <tr style=\"text-align: right;\">\n",
       "      <th></th>\n",
       "      <th>company_id</th>\n",
       "      <th>company_type</th>\n",
       "      <th>date</th>\n",
       "      <th>avg_pesq_score</th>\n",
       "      <th>quality_too_poor</th>\n",
       "      <th>number_busy</th>\n",
       "      <th>temporarily_unable_test</th>\n",
       "      <th>outage_sec</th>\n",
       "      <th>number_test_types</th>\n",
       "      <th>numbers_tested</th>\n",
       "      <th>followup_tests</th>\n",
       "      <th>min_commit</th>\n",
       "      <th>has_min_commit</th>\n",
       "      <th>volume_tests</th>\n",
       "      <th>is_testing</th>\n",
       "    </tr>\n",
       "  </thead>\n",
       "  <tbody>\n",
       "    <tr>\n",
       "      <th>0</th>\n",
       "      <td>1</td>\n",
       "      <td>Conference</td>\n",
       "      <td>2018-01-01</td>\n",
       "      <td>4.183942</td>\n",
       "      <td>1</td>\n",
       "      <td>86</td>\n",
       "      <td>0</td>\n",
       "      <td>6680.24</td>\n",
       "      <td>2</td>\n",
       "      <td>2562</td>\n",
       "      <td>0</td>\n",
       "      <td>100000.0</td>\n",
       "      <td>1</td>\n",
       "      <td>4590</td>\n",
       "      <td>1</td>\n",
       "    </tr>\n",
       "    <tr>\n",
       "      <th>1</th>\n",
       "      <td>2</td>\n",
       "      <td>Enterprise</td>\n",
       "      <td>2018-01-01</td>\n",
       "      <td>3.692000</td>\n",
       "      <td>4</td>\n",
       "      <td>246</td>\n",
       "      <td>0</td>\n",
       "      <td>2208.22</td>\n",
       "      <td>2</td>\n",
       "      <td>2410</td>\n",
       "      <td>100</td>\n",
       "      <td>400000.0</td>\n",
       "      <td>1</td>\n",
       "      <td>35405</td>\n",
       "      <td>1</td>\n",
       "    </tr>\n",
       "    <tr>\n",
       "      <th>2</th>\n",
       "      <td>4</td>\n",
       "      <td>Enterprise</td>\n",
       "      <td>2018-01-01</td>\n",
       "      <td>0.000000</td>\n",
       "      <td>0</td>\n",
       "      <td>1</td>\n",
       "      <td>0</td>\n",
       "      <td>0.00</td>\n",
       "      <td>1</td>\n",
       "      <td>207</td>\n",
       "      <td>0</td>\n",
       "      <td>1500.0</td>\n",
       "      <td>1</td>\n",
       "      <td>302</td>\n",
       "      <td>1</td>\n",
       "    </tr>\n",
       "    <tr>\n",
       "      <th>3</th>\n",
       "      <td>6</td>\n",
       "      <td>Conference</td>\n",
       "      <td>2018-01-01</td>\n",
       "      <td>3.971564</td>\n",
       "      <td>0</td>\n",
       "      <td>0</td>\n",
       "      <td>0</td>\n",
       "      <td>695.99</td>\n",
       "      <td>2</td>\n",
       "      <td>62</td>\n",
       "      <td>0</td>\n",
       "      <td>5715.0</td>\n",
       "      <td>1</td>\n",
       "      <td>167</td>\n",
       "      <td>1</td>\n",
       "    </tr>\n",
       "    <tr>\n",
       "      <th>4</th>\n",
       "      <td>10</td>\n",
       "      <td>Enterprise</td>\n",
       "      <td>2018-01-01</td>\n",
       "      <td>3.371562</td>\n",
       "      <td>0</td>\n",
       "      <td>0</td>\n",
       "      <td>0</td>\n",
       "      <td>0.00</td>\n",
       "      <td>1</td>\n",
       "      <td>13</td>\n",
       "      <td>0</td>\n",
       "      <td>NaN</td>\n",
       "      <td>0</td>\n",
       "      <td>672</td>\n",
       "      <td>1</td>\n",
       "    </tr>\n",
       "  </tbody>\n",
       "</table>\n",
       "</div>"
      ],
      "text/plain": [
       "   company_id company_type        date  avg_pesq_score  quality_too_poor  \\\n",
       "0           1   Conference  2018-01-01        4.183942                 1   \n",
       "1           2   Enterprise  2018-01-01        3.692000                 4   \n",
       "2           4   Enterprise  2018-01-01        0.000000                 0   \n",
       "3           6   Conference  2018-01-01        3.971564                 0   \n",
       "4          10   Enterprise  2018-01-01        3.371562                 0   \n",
       "\n",
       "   number_busy  temporarily_unable_test  outage_sec  number_test_types  \\\n",
       "0           86                        0     6680.24                  2   \n",
       "1          246                        0     2208.22                  2   \n",
       "2            1                        0        0.00                  1   \n",
       "3            0                        0      695.99                  2   \n",
       "4            0                        0        0.00                  1   \n",
       "\n",
       "   numbers_tested  followup_tests  min_commit  has_min_commit  volume_tests  \\\n",
       "0            2562               0    100000.0               1          4590   \n",
       "1            2410             100    400000.0               1         35405   \n",
       "2             207               0      1500.0               1           302   \n",
       "3              62               0      5715.0               1           167   \n",
       "4              13               0         NaN               0           672   \n",
       "\n",
       "   is_testing  \n",
       "0           1  \n",
       "1           1  \n",
       "2           1  \n",
       "3           1  \n",
       "4           1  "
      ]
     },
     "execution_count": 14,
     "metadata": {},
     "output_type": "execute_result"
    }
   ],
   "source": [
    "df.head()"
   ]
  },
  {
   "cell_type": "code",
   "execution_count": 15,
   "id": "8796cc76",
   "metadata": {},
   "outputs": [
    {
     "data": {
      "text/plain": [
       "pandas.core.frame.DataFrame"
      ]
     },
     "execution_count": 15,
     "metadata": {},
     "output_type": "execute_result"
    }
   ],
   "source": [
    "type(df)"
   ]
  },
  {
   "cell_type": "code",
   "execution_count": 16,
   "id": "46770ed0",
   "metadata": {},
   "outputs": [
    {
     "data": {
      "text/plain": [
       "101    1180\n",
       "84     1180\n",
       "118    1180\n",
       "49     1180\n",
       "30     1180\n",
       "       ... \n",
       "388      19\n",
       "383      18\n",
       "279      17\n",
       "455      17\n",
       "402      15\n",
       "Name: company_id, Length: 180, dtype: int64"
      ]
     },
     "execution_count": 16,
     "metadata": {},
     "output_type": "execute_result"
    }
   ],
   "source": [
    "df.company_id.value_counts()"
   ]
  },
  {
   "cell_type": "code",
   "execution_count": 17,
   "id": "e565caf3",
   "metadata": {},
   "outputs": [],
   "source": [
    "# There are 180 companies who had undergone testing through the data"
   ]
  },
  {
   "cell_type": "markdown",
   "id": "8bffdf49",
   "metadata": {},
   "source": [
    "# The columns should not be considered from pandas profiling report are:"
   ]
  },
  {
   "cell_type": "markdown",
   "id": "ce807e59",
   "metadata": {},
   "source": [
    "#date has a high cardinality: 1180 distinct values\tWarning(considered)"
   ]
  },
  {
   "cell_type": "code",
   "execution_count": 18,
   "id": "a3c3a532",
   "metadata": {},
   "outputs": [],
   "source": [
    "#avg_pesq_score has 60555 (55.7%) zeros\tZeros(Tests are related to perticular day & average & has lot of missing data)(Neglected)"
   ]
  },
  {
   "cell_type": "code",
   "execution_count": 19,
   "id": "afb07841",
   "metadata": {},
   "outputs": [],
   "source": [
    "#quality_too_poor has 96517 (88.7%) zeros\tZeros(Neglected)"
   ]
  },
  {
   "cell_type": "code",
   "execution_count": 20,
   "id": "4c24a8ab",
   "metadata": {},
   "outputs": [],
   "source": [
    "#number_busy has 73405 (67.5%) zeros\tZeros(This is not related to test only number of clients)(Neglected)"
   ]
  },
  {
   "cell_type": "code",
   "execution_count": 21,
   "id": "6e42643e",
   "metadata": {},
   "outputs": [],
   "source": [
    "#temporarily_unable_test is highly skewed (γ1 = 39.08401389)\tSkewed(Test are not conducted & highly skewed data)(Neglected)"
   ]
  },
  {
   "cell_type": "code",
   "execution_count": 22,
   "id": "67656315",
   "metadata": {},
   "outputs": [],
   "source": [
    "#temporarily_unable_test has 98694 (90.7%) zeros\tZeros(Neglected)"
   ]
  },
  {
   "cell_type": "code",
   "execution_count": 23,
   "id": "1c5086c5",
   "metadata": {},
   "outputs": [],
   "source": [
    "#outage_sec has 46871 (43.1%) zeros\tZeros(This is again the client lines not related to test)(Neglected)"
   ]
  },
  {
   "cell_type": "code",
   "execution_count": 24,
   "id": "f186f340",
   "metadata": {},
   "outputs": [],
   "source": [
    "#number_test_types has 49732 (45.7%) zeros\tZeros(instead of test types the numbers of tests are important)(Neglected)"
   ]
  },
  {
   "cell_type": "code",
   "execution_count": 25,
   "id": "f1dded54",
   "metadata": {},
   "outputs": [],
   "source": [
    "#numbers_tested has 49732 (45.7%) zeros\tZeros(considered)"
   ]
  },
  {
   "cell_type": "code",
   "execution_count": 26,
   "id": "d379164d",
   "metadata": {},
   "outputs": [],
   "source": [
    "#followup_tests is highly skewed (γ1 = 42.23710456)\tSkewed(having similar data in follow_up_test has which is having maximum #zeroes & highly skewed data)(Neglected)"
   ]
  },
  {
   "cell_type": "code",
   "execution_count": 27,
   "id": "6dc20303",
   "metadata": {},
   "outputs": [],
   "source": [
    "#followup_tests has 101604 (93.4%) zeros\tZeros(Neglected)"
   ]
  },
  {
   "cell_type": "code",
   "execution_count": 28,
   "id": "b0bec09a",
   "metadata": {},
   "outputs": [],
   "source": [
    "#min_commit has 55322 (50.9%) missing values\tMissing(This will not affect that much on data) (Neglected)"
   ]
  },
  {
   "cell_type": "code",
   "execution_count": 29,
   "id": "3fa02003",
   "metadata": {},
   "outputs": [],
   "source": [
    "#volume_tests has 38686 (35.6%) zeros\tZeros(If client is still testing means tests are not completed)(Neglected)"
   ]
  },
  {
   "cell_type": "markdown",
   "id": "19742740",
   "metadata": {},
   "source": [
    "## From above decription & profile report only 2 comluns can be used: \n",
    "1)Date\n",
    "2)numbers_tested"
   ]
  },
  {
   "cell_type": "code",
   "execution_count": 30,
   "id": "a2a3b367",
   "metadata": {},
   "outputs": [
    {
     "data": {
      "text/html": [
       "<div>\n",
       "<style scoped>\n",
       "    .dataframe tbody tr th:only-of-type {\n",
       "        vertical-align: middle;\n",
       "    }\n",
       "\n",
       "    .dataframe tbody tr th {\n",
       "        vertical-align: top;\n",
       "    }\n",
       "\n",
       "    .dataframe thead th {\n",
       "        text-align: right;\n",
       "    }\n",
       "</style>\n",
       "<table border=\"1\" class=\"dataframe\">\n",
       "  <thead>\n",
       "    <tr style=\"text-align: right;\">\n",
       "      <th></th>\n",
       "      <th>company_id</th>\n",
       "      <th>company_type</th>\n",
       "      <th>date</th>\n",
       "      <th>avg_pesq_score</th>\n",
       "      <th>quality_too_poor</th>\n",
       "      <th>number_busy</th>\n",
       "      <th>temporarily_unable_test</th>\n",
       "      <th>outage_sec</th>\n",
       "      <th>number_test_types</th>\n",
       "      <th>numbers_tested</th>\n",
       "      <th>followup_tests</th>\n",
       "      <th>min_commit</th>\n",
       "      <th>has_min_commit</th>\n",
       "      <th>volume_tests</th>\n",
       "      <th>is_testing</th>\n",
       "    </tr>\n",
       "  </thead>\n",
       "  <tbody>\n",
       "    <tr>\n",
       "      <th>0</th>\n",
       "      <td>1</td>\n",
       "      <td>Conference</td>\n",
       "      <td>2018-01-01</td>\n",
       "      <td>4.183942</td>\n",
       "      <td>1</td>\n",
       "      <td>86</td>\n",
       "      <td>0</td>\n",
       "      <td>6680.24</td>\n",
       "      <td>2</td>\n",
       "      <td>2562</td>\n",
       "      <td>0</td>\n",
       "      <td>100000.0</td>\n",
       "      <td>1</td>\n",
       "      <td>4590</td>\n",
       "      <td>1</td>\n",
       "    </tr>\n",
       "    <tr>\n",
       "      <th>1</th>\n",
       "      <td>2</td>\n",
       "      <td>Enterprise</td>\n",
       "      <td>2018-01-01</td>\n",
       "      <td>3.692000</td>\n",
       "      <td>4</td>\n",
       "      <td>246</td>\n",
       "      <td>0</td>\n",
       "      <td>2208.22</td>\n",
       "      <td>2</td>\n",
       "      <td>2410</td>\n",
       "      <td>100</td>\n",
       "      <td>400000.0</td>\n",
       "      <td>1</td>\n",
       "      <td>35405</td>\n",
       "      <td>1</td>\n",
       "    </tr>\n",
       "    <tr>\n",
       "      <th>2</th>\n",
       "      <td>4</td>\n",
       "      <td>Enterprise</td>\n",
       "      <td>2018-01-01</td>\n",
       "      <td>0.000000</td>\n",
       "      <td>0</td>\n",
       "      <td>1</td>\n",
       "      <td>0</td>\n",
       "      <td>0.00</td>\n",
       "      <td>1</td>\n",
       "      <td>207</td>\n",
       "      <td>0</td>\n",
       "      <td>1500.0</td>\n",
       "      <td>1</td>\n",
       "      <td>302</td>\n",
       "      <td>1</td>\n",
       "    </tr>\n",
       "    <tr>\n",
       "      <th>3</th>\n",
       "      <td>6</td>\n",
       "      <td>Conference</td>\n",
       "      <td>2018-01-01</td>\n",
       "      <td>3.971564</td>\n",
       "      <td>0</td>\n",
       "      <td>0</td>\n",
       "      <td>0</td>\n",
       "      <td>695.99</td>\n",
       "      <td>2</td>\n",
       "      <td>62</td>\n",
       "      <td>0</td>\n",
       "      <td>5715.0</td>\n",
       "      <td>1</td>\n",
       "      <td>167</td>\n",
       "      <td>1</td>\n",
       "    </tr>\n",
       "    <tr>\n",
       "      <th>4</th>\n",
       "      <td>10</td>\n",
       "      <td>Enterprise</td>\n",
       "      <td>2018-01-01</td>\n",
       "      <td>3.371562</td>\n",
       "      <td>0</td>\n",
       "      <td>0</td>\n",
       "      <td>0</td>\n",
       "      <td>0.00</td>\n",
       "      <td>1</td>\n",
       "      <td>13</td>\n",
       "      <td>0</td>\n",
       "      <td>NaN</td>\n",
       "      <td>0</td>\n",
       "      <td>672</td>\n",
       "      <td>1</td>\n",
       "    </tr>\n",
       "  </tbody>\n",
       "</table>\n",
       "</div>"
      ],
      "text/plain": [
       "   company_id company_type        date  avg_pesq_score  quality_too_poor  \\\n",
       "0           1   Conference  2018-01-01        4.183942                 1   \n",
       "1           2   Enterprise  2018-01-01        3.692000                 4   \n",
       "2           4   Enterprise  2018-01-01        0.000000                 0   \n",
       "3           6   Conference  2018-01-01        3.971564                 0   \n",
       "4          10   Enterprise  2018-01-01        3.371562                 0   \n",
       "\n",
       "   number_busy  temporarily_unable_test  outage_sec  number_test_types  \\\n",
       "0           86                        0     6680.24                  2   \n",
       "1          246                        0     2208.22                  2   \n",
       "2            1                        0        0.00                  1   \n",
       "3            0                        0      695.99                  2   \n",
       "4            0                        0        0.00                  1   \n",
       "\n",
       "   numbers_tested  followup_tests  min_commit  has_min_commit  volume_tests  \\\n",
       "0            2562               0    100000.0               1          4590   \n",
       "1            2410             100    400000.0               1         35405   \n",
       "2             207               0      1500.0               1           302   \n",
       "3              62               0      5715.0               1           167   \n",
       "4              13               0         NaN               0           672   \n",
       "\n",
       "   is_testing  \n",
       "0           1  \n",
       "1           1  \n",
       "2           1  \n",
       "3           1  \n",
       "4           1  "
      ]
     },
     "execution_count": 30,
     "metadata": {},
     "output_type": "execute_result"
    }
   ],
   "source": [
    "df.head()"
   ]
  },
  {
   "cell_type": "code",
   "execution_count": 31,
   "id": "7a6861cf",
   "metadata": {},
   "outputs": [
    {
     "data": {
      "text/html": [
       "<div>\n",
       "<style scoped>\n",
       "    .dataframe tbody tr th:only-of-type {\n",
       "        vertical-align: middle;\n",
       "    }\n",
       "\n",
       "    .dataframe tbody tr th {\n",
       "        vertical-align: top;\n",
       "    }\n",
       "\n",
       "    .dataframe thead th {\n",
       "        text-align: right;\n",
       "    }\n",
       "</style>\n",
       "<table border=\"1\" class=\"dataframe\">\n",
       "  <thead>\n",
       "    <tr style=\"text-align: right;\">\n",
       "      <th></th>\n",
       "      <th>company_id</th>\n",
       "      <th>date</th>\n",
       "      <th>numbers_tested</th>\n",
       "    </tr>\n",
       "  </thead>\n",
       "  <tbody>\n",
       "    <tr>\n",
       "      <th>0</th>\n",
       "      <td>1</td>\n",
       "      <td>2018-01-01</td>\n",
       "      <td>2562</td>\n",
       "    </tr>\n",
       "    <tr>\n",
       "      <th>1</th>\n",
       "      <td>2</td>\n",
       "      <td>2018-01-01</td>\n",
       "      <td>2410</td>\n",
       "    </tr>\n",
       "    <tr>\n",
       "      <th>2</th>\n",
       "      <td>4</td>\n",
       "      <td>2018-01-01</td>\n",
       "      <td>207</td>\n",
       "    </tr>\n",
       "    <tr>\n",
       "      <th>3</th>\n",
       "      <td>6</td>\n",
       "      <td>2018-01-01</td>\n",
       "      <td>62</td>\n",
       "    </tr>\n",
       "    <tr>\n",
       "      <th>4</th>\n",
       "      <td>10</td>\n",
       "      <td>2018-01-01</td>\n",
       "      <td>13</td>\n",
       "    </tr>\n",
       "    <tr>\n",
       "      <th>...</th>\n",
       "      <td>...</td>\n",
       "      <td>...</td>\n",
       "      <td>...</td>\n",
       "    </tr>\n",
       "    <tr>\n",
       "      <th>108755</th>\n",
       "      <td>420</td>\n",
       "      <td>2021-03-25</td>\n",
       "      <td>2</td>\n",
       "    </tr>\n",
       "    <tr>\n",
       "      <th>108756</th>\n",
       "      <td>444</td>\n",
       "      <td>2021-03-25</td>\n",
       "      <td>7</td>\n",
       "    </tr>\n",
       "    <tr>\n",
       "      <th>108757</th>\n",
       "      <td>447</td>\n",
       "      <td>2021-03-25</td>\n",
       "      <td>121</td>\n",
       "    </tr>\n",
       "    <tr>\n",
       "      <th>108758</th>\n",
       "      <td>450</td>\n",
       "      <td>2021-03-25</td>\n",
       "      <td>0</td>\n",
       "    </tr>\n",
       "    <tr>\n",
       "      <th>108759</th>\n",
       "      <td>455</td>\n",
       "      <td>2021-03-25</td>\n",
       "      <td>0</td>\n",
       "    </tr>\n",
       "  </tbody>\n",
       "</table>\n",
       "<p>108760 rows × 3 columns</p>\n",
       "</div>"
      ],
      "text/plain": [
       "        company_id        date  numbers_tested\n",
       "0                1  2018-01-01            2562\n",
       "1                2  2018-01-01            2410\n",
       "2                4  2018-01-01             207\n",
       "3                6  2018-01-01              62\n",
       "4               10  2018-01-01              13\n",
       "...            ...         ...             ...\n",
       "108755         420  2021-03-25               2\n",
       "108756         444  2021-03-25               7\n",
       "108757         447  2021-03-25             121\n",
       "108758         450  2021-03-25               0\n",
       "108759         455  2021-03-25               0\n",
       "\n",
       "[108760 rows x 3 columns]"
      ]
     },
     "execution_count": 31,
     "metadata": {},
     "output_type": "execute_result"
    }
   ],
   "source": [
    "df1 = df[['company_id','date','numbers_tested']]\n",
    "df1"
   ]
  },
  {
   "cell_type": "code",
   "execution_count": 32,
   "id": "e50d1b98",
   "metadata": {},
   "outputs": [
    {
     "data": {
      "text/plain": [
       "<AxesSubplot:>"
      ]
     },
     "execution_count": 32,
     "metadata": {},
     "output_type": "execute_result"
    },
    {
     "data": {
      "image/png": "[encoded data removed]",
      "text/plain": [
       "<Figure size 864x288 with 1 Axes>"
      ]
     },
     "metadata": {},
     "output_type": "display_data"
    }
   ],
   "source": [
    "df1['numbers_tested'].plot(figsize=(12,4))"
   ]
  },
  {
   "cell_type": "code",
   "execution_count": 33,
   "id": "dd0f987f",
   "metadata": {},
   "outputs": [
    {
     "data": {
      "text/plain": [
       "<AxesSubplot:>"
      ]
     },
     "execution_count": 33,
     "metadata": {},
     "output_type": "execute_result"
    },
    {
     "data": {
      "image/png": "[encoded data removed]",
      "text/plain": [
       "<Figure size 864x288 with 1 Axes>"
      ]
     },
     "metadata": {},
     "output_type": "display_data"
    }
   ],
   "source": [
    "## xlimit and y limit\n",
    "#1st year plot\n",
    "df1['numbers_tested'].plot(xlim=['2018-01-01','2018-12-31'],ylim=[2400,2600],figsize=(12,4))"
   ]
  },
  {
   "cell_type": "code",
   "execution_count": 34,
   "id": "3e30b642",
   "metadata": {},
   "outputs": [
    {
     "data": {
      "text/plain": [
       "<AxesSubplot:>"
      ]
     },
     "execution_count": 34,
     "metadata": {},
     "output_type": "execute_result"
    },
    {
     "data": {
      "image/png": "[encoded data removed]",
      "text/plain": [
       "<Figure size 864x288 with 1 Axes>"
      ]
     },
     "metadata": {},
     "output_type": "display_data"
    }
   ],
   "source": [
    "#2nd year plot\n",
    "df1['numbers_tested'].plot(xlim=['2019-01-01','2019-12-31'],ylim=[2400,2600],figsize=(12,4))"
   ]
  },
  {
   "cell_type": "code",
   "execution_count": 35,
   "id": "7aa37a52",
   "metadata": {},
   "outputs": [
    {
     "data": {
      "text/plain": [
       "<AxesSubplot:>"
      ]
     },
     "execution_count": 35,
     "metadata": {},
     "output_type": "execute_result"
    },
    {
     "data": {
      "image/png": "[encoded data removed]",
      "text/plain": [
       "<Figure size 864x288 with 1 Axes>"
      ]
     },
     "metadata": {},
     "output_type": "display_data"
    }
   ],
   "source": [
    "#3rd year plot\n",
    "df1['numbers_tested'].plot(xlim=['2020-01-01','2020-12-31'],ylim=[2400,2600],figsize=(12,4))"
   ]
  },
  {
   "cell_type": "code",
   "execution_count": 36,
   "id": "62369eae",
   "metadata": {},
   "outputs": [
    {
     "data": {
      "text/plain": [
       "<AxesSubplot:>"
      ]
     },
     "execution_count": 36,
     "metadata": {},
     "output_type": "execute_result"
    },
    {
     "data": {
      "image/png": "[encoded data removed]",
      "text/plain": [
       "<Figure size 864x288 with 1 Axes>"
      ]
     },
     "metadata": {},
     "output_type": "display_data"
    }
   ],
   "source": [
    "#4th year plot\n",
    "df1['numbers_tested'].plot(xlim=['2021-01-01','2021-03-25'],ylim=[2400,2600],figsize=(12,4))"
   ]
  },
  {
   "cell_type": "code",
   "execution_count": 37,
   "id": "0d6b4690",
   "metadata": {},
   "outputs": [],
   "source": [
    "# all the graphs indicated that the testing completed for the various companies between 2000 to 3000\n",
    "# But specifically between 2400 to 2600"
   ]
  },
  {
   "cell_type": "markdown",
   "id": "c6b1e5b0",
   "metadata": {},
   "source": [
    "# It is observed that testing is at peak when year got started. It is decreasing for end of the year."
   ]
  },
  {
   "cell_type": "code",
   "execution_count": 38,
   "id": "0e4a5f79",
   "metadata": {},
   "outputs": [
    {
     "data": {
      "text/html": [
       "<div>\n",
       "<style scoped>\n",
       "    .dataframe tbody tr th:only-of-type {\n",
       "        vertical-align: middle;\n",
       "    }\n",
       "\n",
       "    .dataframe tbody tr th {\n",
       "        vertical-align: top;\n",
       "    }\n",
       "\n",
       "    .dataframe thead th {\n",
       "        text-align: right;\n",
       "    }\n",
       "</style>\n",
       "<table border=\"1\" class=\"dataframe\">\n",
       "  <thead>\n",
       "    <tr style=\"text-align: right;\">\n",
       "      <th></th>\n",
       "      <th>company_id</th>\n",
       "      <th>date</th>\n",
       "      <th>numbers_tested</th>\n",
       "    </tr>\n",
       "  </thead>\n",
       "  <tbody>\n",
       "    <tr>\n",
       "      <th>0</th>\n",
       "      <td>1</td>\n",
       "      <td>2018-01-01</td>\n",
       "      <td>2562</td>\n",
       "    </tr>\n",
       "    <tr>\n",
       "      <th>1</th>\n",
       "      <td>2</td>\n",
       "      <td>2018-01-01</td>\n",
       "      <td>2410</td>\n",
       "    </tr>\n",
       "    <tr>\n",
       "      <th>2</th>\n",
       "      <td>4</td>\n",
       "      <td>2018-01-01</td>\n",
       "      <td>207</td>\n",
       "    </tr>\n",
       "    <tr>\n",
       "      <th>3</th>\n",
       "      <td>6</td>\n",
       "      <td>2018-01-01</td>\n",
       "      <td>62</td>\n",
       "    </tr>\n",
       "    <tr>\n",
       "      <th>4</th>\n",
       "      <td>10</td>\n",
       "      <td>2018-01-01</td>\n",
       "      <td>13</td>\n",
       "    </tr>\n",
       "    <tr>\n",
       "      <th>...</th>\n",
       "      <td>...</td>\n",
       "      <td>...</td>\n",
       "      <td>...</td>\n",
       "    </tr>\n",
       "    <tr>\n",
       "      <th>108755</th>\n",
       "      <td>420</td>\n",
       "      <td>2021-03-25</td>\n",
       "      <td>2</td>\n",
       "    </tr>\n",
       "    <tr>\n",
       "      <th>108756</th>\n",
       "      <td>444</td>\n",
       "      <td>2021-03-25</td>\n",
       "      <td>7</td>\n",
       "    </tr>\n",
       "    <tr>\n",
       "      <th>108757</th>\n",
       "      <td>447</td>\n",
       "      <td>2021-03-25</td>\n",
       "      <td>121</td>\n",
       "    </tr>\n",
       "    <tr>\n",
       "      <th>108758</th>\n",
       "      <td>450</td>\n",
       "      <td>2021-03-25</td>\n",
       "      <td>0</td>\n",
       "    </tr>\n",
       "    <tr>\n",
       "      <th>108759</th>\n",
       "      <td>455</td>\n",
       "      <td>2021-03-25</td>\n",
       "      <td>0</td>\n",
       "    </tr>\n",
       "  </tbody>\n",
       "</table>\n",
       "<p>108760 rows × 3 columns</p>\n",
       "</div>"
      ],
      "text/plain": [
       "        company_id        date  numbers_tested\n",
       "0                1  2018-01-01            2562\n",
       "1                2  2018-01-01            2410\n",
       "2                4  2018-01-01             207\n",
       "3                6  2018-01-01              62\n",
       "4               10  2018-01-01              13\n",
       "...            ...         ...             ...\n",
       "108755         420  2021-03-25               2\n",
       "108756         444  2021-03-25               7\n",
       "108757         447  2021-03-25             121\n",
       "108758         450  2021-03-25               0\n",
       "108759         455  2021-03-25               0\n",
       "\n",
       "[108760 rows x 3 columns]"
      ]
     },
     "execution_count": 38,
     "metadata": {},
     "output_type": "execute_result"
    }
   ],
   "source": [
    "df1"
   ]
  },
  {
   "cell_type": "code",
   "execution_count": 39,
   "id": "f6af0345",
   "metadata": {},
   "outputs": [],
   "source": [
    "\n",
    "## datetime\n",
    "from datetime import datetime"
   ]
  },
  {
   "cell_type": "code",
   "execution_count": 40,
   "id": "d490e1f8",
   "metadata": {},
   "outputs": [
    {
     "data": {
      "text/plain": [
       "datetime.datetime(2022, 4, 6, 13, 22, 54, 698852)"
      ]
     },
     "execution_count": 40,
     "metadata": {},
     "output_type": "execute_result"
    }
   ],
   "source": [
    "datetime.now()"
   ]
  },
  {
   "cell_type": "code",
   "execution_count": 41,
   "id": "7386b0c7",
   "metadata": {},
   "outputs": [],
   "source": [
    "Date=datetime(2021,11,21)"
   ]
  },
  {
   "cell_type": "code",
   "execution_count": 42,
   "id": "b48a692a",
   "metadata": {},
   "outputs": [
    {
     "data": {
      "text/plain": [
       "datetime.datetime(2021, 11, 21, 0, 0)"
      ]
     },
     "execution_count": 42,
     "metadata": {},
     "output_type": "execute_result"
    }
   ],
   "source": [
    "Date"
   ]
  },
  {
   "cell_type": "code",
   "execution_count": 43,
   "id": "91da5338",
   "metadata": {},
   "outputs": [
    {
     "data": {
      "text/plain": [
       "datetime.date(2021, 11, 21)"
      ]
     },
     "execution_count": 43,
     "metadata": {},
     "output_type": "execute_result"
    }
   ],
   "source": [
    "Date.date()"
   ]
  },
  {
   "cell_type": "code",
   "execution_count": 44,
   "id": "f0815f73",
   "metadata": {},
   "outputs": [
    {
     "data": {
      "text/plain": [
       "21"
      ]
     },
     "execution_count": 44,
     "metadata": {},
     "output_type": "execute_result"
    }
   ],
   "source": [
    "Date.day"
   ]
  },
  {
   "cell_type": "code",
   "execution_count": 45,
   "id": "bd0f58cf",
   "metadata": {},
   "outputs": [
    {
     "data": {
      "text/plain": [
       "6"
      ]
     },
     "execution_count": 45,
     "metadata": {},
     "output_type": "execute_result"
    }
   ],
   "source": [
    "Date.weekday()"
   ]
  },
  {
   "cell_type": "markdown",
   "id": "68ce0daf",
   "metadata": {},
   "source": [
    "# Time Resampling\n"
   ]
  },
  {
   "cell_type": "code",
   "execution_count": 46,
   "id": "51eda91d",
   "metadata": {},
   "outputs": [],
   "source": [
    "df1=df1.reset_index()"
   ]
  },
  {
   "cell_type": "code",
   "execution_count": 47,
   "id": "f8fb2777",
   "metadata": {},
   "outputs": [],
   "source": [
    "df1=df1.set_index('date',drop=True)"
   ]
  },
  {
   "cell_type": "code",
   "execution_count": 48,
   "id": "d051fb5a",
   "metadata": {},
   "outputs": [],
   "source": [
    "df1.drop('index',axis = 1, inplace = True)"
   ]
  },
  {
   "cell_type": "code",
   "execution_count": 49,
   "id": "ec5ed34c",
   "metadata": {},
   "outputs": [
    {
     "data": {
      "text/html": [
       "<div>\n",
       "<style scoped>\n",
       "    .dataframe tbody tr th:only-of-type {\n",
       "        vertical-align: middle;\n",
       "    }\n",
       "\n",
       "    .dataframe tbody tr th {\n",
       "        vertical-align: top;\n",
       "    }\n",
       "\n",
       "    .dataframe thead th {\n",
       "        text-align: right;\n",
       "    }\n",
       "</style>\n",
       "<table border=\"1\" class=\"dataframe\">\n",
       "  <thead>\n",
       "    <tr style=\"text-align: right;\">\n",
       "      <th></th>\n",
       "      <th>company_id</th>\n",
       "      <th>numbers_tested</th>\n",
       "    </tr>\n",
       "    <tr>\n",
       "      <th>date</th>\n",
       "      <th></th>\n",
       "      <th></th>\n",
       "    </tr>\n",
       "  </thead>\n",
       "  <tbody>\n",
       "    <tr>\n",
       "      <th>2018-01-01</th>\n",
       "      <td>1</td>\n",
       "      <td>2562</td>\n",
       "    </tr>\n",
       "    <tr>\n",
       "      <th>2018-01-01</th>\n",
       "      <td>2</td>\n",
       "      <td>2410</td>\n",
       "    </tr>\n",
       "    <tr>\n",
       "      <th>2018-01-01</th>\n",
       "      <td>4</td>\n",
       "      <td>207</td>\n",
       "    </tr>\n",
       "    <tr>\n",
       "      <th>2018-01-01</th>\n",
       "      <td>6</td>\n",
       "      <td>62</td>\n",
       "    </tr>\n",
       "    <tr>\n",
       "      <th>2018-01-01</th>\n",
       "      <td>10</td>\n",
       "      <td>13</td>\n",
       "    </tr>\n",
       "  </tbody>\n",
       "</table>\n",
       "</div>"
      ],
      "text/plain": [
       "            company_id  numbers_tested\n",
       "date                                  \n",
       "2018-01-01           1            2562\n",
       "2018-01-01           2            2410\n",
       "2018-01-01           4             207\n",
       "2018-01-01           6              62\n",
       "2018-01-01          10              13"
      ]
     },
     "execution_count": 49,
     "metadata": {},
     "output_type": "execute_result"
    }
   ],
   "source": [
    "df1.head()"
   ]
  },
  {
   "cell_type": "code",
   "execution_count": 50,
   "id": "9f2ff7f4",
   "metadata": {},
   "outputs": [],
   "source": [
    "from scipy import stats\n",
    "import pandas as pd\n",
    "import matplotlib.pyplot as plt\n",
    "import statsmodels.api as sm\n",
    "\n",
    "from statsmodels.graphics.api import qqplot\n",
    "%matplotlib inline"
   ]
  },
  {
   "cell_type": "code",
   "execution_count": 52,
   "id": "3180c3cd",
   "metadata": {},
   "outputs": [
    {
     "data": {
      "text/html": [
       "<div>\n",
       "<style scoped>\n",
       "    .dataframe tbody tr th:only-of-type {\n",
       "        vertical-align: middle;\n",
       "    }\n",
       "\n",
       "    .dataframe tbody tr th {\n",
       "        vertical-align: top;\n",
       "    }\n",
       "\n",
       "    .dataframe thead th {\n",
       "        text-align: right;\n",
       "    }\n",
       "</style>\n",
       "<table border=\"1\" class=\"dataframe\">\n",
       "  <thead>\n",
       "    <tr style=\"text-align: right;\">\n",
       "      <th></th>\n",
       "      <th>company_id</th>\n",
       "      <th>numbers_tested</th>\n",
       "    </tr>\n",
       "    <tr>\n",
       "      <th>date</th>\n",
       "      <th></th>\n",
       "      <th></th>\n",
       "    </tr>\n",
       "  </thead>\n",
       "  <tbody>\n",
       "    <tr>\n",
       "      <th>2018-01-01</th>\n",
       "      <td>NaN</td>\n",
       "      <td>NaN</td>\n",
       "    </tr>\n",
       "    <tr>\n",
       "      <th>2018-01-01</th>\n",
       "      <td>NaN</td>\n",
       "      <td>NaN</td>\n",
       "    </tr>\n",
       "    <tr>\n",
       "      <th>2018-01-01</th>\n",
       "      <td>NaN</td>\n",
       "      <td>NaN</td>\n",
       "    </tr>\n",
       "    <tr>\n",
       "      <th>2018-01-01</th>\n",
       "      <td>NaN</td>\n",
       "      <td>NaN</td>\n",
       "    </tr>\n",
       "    <tr>\n",
       "      <th>2018-01-01</th>\n",
       "      <td>NaN</td>\n",
       "      <td>NaN</td>\n",
       "    </tr>\n",
       "    <tr>\n",
       "      <th>...</th>\n",
       "      <td>...</td>\n",
       "      <td>...</td>\n",
       "    </tr>\n",
       "    <tr>\n",
       "      <th>2021-03-25</th>\n",
       "      <td>192.050</td>\n",
       "      <td>72.010</td>\n",
       "    </tr>\n",
       "    <tr>\n",
       "      <th>2021-03-25</th>\n",
       "      <td>193.905</td>\n",
       "      <td>71.745</td>\n",
       "    </tr>\n",
       "    <tr>\n",
       "      <th>2021-03-25</th>\n",
       "      <td>195.765</td>\n",
       "      <td>72.115</td>\n",
       "    </tr>\n",
       "    <tr>\n",
       "      <th>2021-03-25</th>\n",
       "      <td>197.620</td>\n",
       "      <td>71.830</td>\n",
       "    </tr>\n",
       "    <tr>\n",
       "      <th>2021-03-25</th>\n",
       "      <td>199.490</td>\n",
       "      <td>71.825</td>\n",
       "    </tr>\n",
       "  </tbody>\n",
       "</table>\n",
       "<p>108760 rows × 2 columns</p>\n",
       "</div>"
      ],
      "text/plain": [
       "            company_id  numbers_tested\n",
       "date                                  \n",
       "2018-01-01         NaN             NaN\n",
       "2018-01-01         NaN             NaN\n",
       "2018-01-01         NaN             NaN\n",
       "2018-01-01         NaN             NaN\n",
       "2018-01-01         NaN             NaN\n",
       "...                ...             ...\n",
       "2021-03-25     192.050          72.010\n",
       "2021-03-25     193.905          71.745\n",
       "2021-03-25     195.765          72.115\n",
       "2021-03-25     197.620          71.830\n",
       "2021-03-25     199.490          71.825\n",
       "\n",
       "[108760 rows x 2 columns]"
      ]
     },
     "execution_count": 52,
     "metadata": {},
     "output_type": "execute_result"
    }
   ],
   "source": [
    "# also called as smoothing\n",
    "avg_test=df1.rolling(window=200).mean()  # window: This is the number of observations used for calculating the statistic. \n",
    "avg_test"
   ]
  },
  {
   "cell_type": "code",
   "execution_count": 54,
   "id": "1b97dda9",
   "metadata": {},
   "outputs": [
    {
     "data": {
      "text/plain": [
       "<AxesSubplot:xlabel='date'>"
      ]
     },
     "execution_count": 54,
     "metadata": {},
     "output_type": "execute_result"
    },
    {
     "data": {
      "image/png": "[encoded data removed]",
      "text/plain": [
       "<Figure size 1440x1296 with 1 Axes>"
      ]
     },
     "metadata": {
      "needs_background": "light"
     },
     "output_type": "display_data"
    }
   ],
   "source": [
    "avg_test.plot(figsize=(20,18))"
   ]
  },
  {
   "cell_type": "code",
   "execution_count": 55,
   "id": "1fb71ba2",
   "metadata": {},
   "outputs": [
    {
     "data": {
      "text/plain": [
       "array([0.03662101, 1.75160154])"
      ]
     },
     "execution_count": 55,
     "metadata": {},
     "output_type": "execute_result"
    }
   ],
   "source": [
    "sm.stats.durbin_watson(df1) # very less correlation"
   ]
  },
  {
   "cell_type": "code",
   "execution_count": 60,
   "id": "675ff377",
   "metadata": {},
   "outputs": [
    {
     "data": {
      "text/html": [
       "<div>\n",
       "<style scoped>\n",
       "    .dataframe tbody tr th:only-of-type {\n",
       "        vertical-align: middle;\n",
       "    }\n",
       "\n",
       "    .dataframe tbody tr th {\n",
       "        vertical-align: top;\n",
       "    }\n",
       "\n",
       "    .dataframe thead th {\n",
       "        text-align: right;\n",
       "    }\n",
       "</style>\n",
       "<table border=\"1\" class=\"dataframe\">\n",
       "  <thead>\n",
       "    <tr style=\"text-align: right;\">\n",
       "      <th></th>\n",
       "      <th>numbers_tested</th>\n",
       "    </tr>\n",
       "    <tr>\n",
       "      <th>date</th>\n",
       "      <th></th>\n",
       "    </tr>\n",
       "  </thead>\n",
       "  <tbody>\n",
       "    <tr>\n",
       "      <th>2018-01-01</th>\n",
       "      <td>2562</td>\n",
       "    </tr>\n",
       "    <tr>\n",
       "      <th>2018-01-01</th>\n",
       "      <td>2410</td>\n",
       "    </tr>\n",
       "    <tr>\n",
       "      <th>2018-01-01</th>\n",
       "      <td>207</td>\n",
       "    </tr>\n",
       "    <tr>\n",
       "      <th>2018-01-01</th>\n",
       "      <td>62</td>\n",
       "    </tr>\n",
       "    <tr>\n",
       "      <th>2018-01-01</th>\n",
       "      <td>13</td>\n",
       "    </tr>\n",
       "  </tbody>\n",
       "</table>\n",
       "</div>"
      ],
      "text/plain": [
       "            numbers_tested\n",
       "date                      \n",
       "2018-01-01            2562\n",
       "2018-01-01            2410\n",
       "2018-01-01             207\n",
       "2018-01-01              62\n",
       "2018-01-01              13"
      ]
     },
     "execution_count": 60,
     "metadata": {},
     "output_type": "execute_result"
    }
   ],
   "source": [
    "df2 = df1[['numbers_tested']]\n",
    "df2.head()"
   ]
  },
  {
   "cell_type": "code",
   "execution_count": 61,
   "id": "031b8d46",
   "metadata": {},
   "outputs": [
    {
     "data": {
      "image/png": "[encoded data removed]",
      "text/plain": [
       "<Figure size 864x576 with 2 Axes>"
      ]
     },
     "metadata": {
      "needs_background": "light"
     },
     "output_type": "display_data"
    }
   ],
   "source": [
    "#  plots in the notebook\n",
    "%matplotlib inline\n",
    "fig = plt.figure(figsize=(12,8))\n",
    "ax1 = fig.add_subplot(211)\n",
    "fig = sm.graphics.tsa.plot_acf(df2.values.squeeze(), lags=40, ax=ax1)\n",
    "ax2 = fig.add_subplot(212)\n",
    "fig = sm.graphics.tsa.plot_pacf(df2, lags=40, ax=ax2)"
   ]
  },
  {
   "cell_type": "code",
   "execution_count": 78,
   "id": "f3826a80",
   "metadata": {},
   "outputs": [
    {
     "ename": "ValueError",
     "evalue": "x is required to have ndim 1 but has ndim 2",
     "output_type": "error",
     "traceback": [
      "\u001b[1;31m---------------------------------------------------------------------------\u001b[0m",
      "\u001b[1;31mValueError\u001b[0m                                Traceback (most recent call last)",
      "\u001b[1;32m<ipython-input-78-bbe66495f9a7>\u001b[0m in \u001b[0;36m<module>\u001b[1;34m\u001b[0m\n\u001b[0;32m      3\u001b[0m \u001b[0mfig\u001b[0m \u001b[1;33m=\u001b[0m \u001b[0mplt\u001b[0m\u001b[1;33m.\u001b[0m\u001b[0mfigure\u001b[0m\u001b[1;33m(\u001b[0m\u001b[0mfigsize\u001b[0m\u001b[1;33m=\u001b[0m\u001b[1;33m(\u001b[0m\u001b[1;36m12\u001b[0m\u001b[1;33m,\u001b[0m\u001b[1;36m8\u001b[0m\u001b[1;33m)\u001b[0m\u001b[1;33m)\u001b[0m\u001b[1;33m\u001b[0m\u001b[1;33m\u001b[0m\u001b[0m\n\u001b[0;32m      4\u001b[0m \u001b[0max1\u001b[0m \u001b[1;33m=\u001b[0m \u001b[0mfig\u001b[0m\u001b[1;33m.\u001b[0m\u001b[0madd_subplot\u001b[0m\u001b[1;33m(\u001b[0m\u001b[1;36m211\u001b[0m\u001b[1;33m)\u001b[0m\u001b[1;33m\u001b[0m\u001b[1;33m\u001b[0m\u001b[0m\n\u001b[1;32m----> 5\u001b[1;33m \u001b[0mfig\u001b[0m \u001b[1;33m=\u001b[0m \u001b[0msm\u001b[0m\u001b[1;33m.\u001b[0m\u001b[0mgraphics\u001b[0m\u001b[1;33m.\u001b[0m\u001b[0mtsa\u001b[0m\u001b[1;33m.\u001b[0m\u001b[0mplot_acf\u001b[0m\u001b[1;33m(\u001b[0m\u001b[0mdf1\u001b[0m\u001b[1;33m.\u001b[0m\u001b[0mvalues\u001b[0m\u001b[1;33m.\u001b[0m\u001b[0msqueeze\u001b[0m\u001b[1;33m(\u001b[0m\u001b[1;33m)\u001b[0m\u001b[1;33m,\u001b[0m \u001b[0mlags\u001b[0m\u001b[1;33m=\u001b[0m\u001b[1;36m40\u001b[0m\u001b[1;33m,\u001b[0m \u001b[0max\u001b[0m\u001b[1;33m=\u001b[0m\u001b[0max1\u001b[0m\u001b[1;33m)\u001b[0m\u001b[1;33m\u001b[0m\u001b[1;33m\u001b[0m\u001b[0m\n\u001b[0m\u001b[0;32m      6\u001b[0m \u001b[0max2\u001b[0m \u001b[1;33m=\u001b[0m \u001b[0mfig\u001b[0m\u001b[1;33m.\u001b[0m\u001b[0madd_subplot\u001b[0m\u001b[1;33m(\u001b[0m\u001b[1;36m212\u001b[0m\u001b[1;33m)\u001b[0m\u001b[1;33m\u001b[0m\u001b[1;33m\u001b[0m\u001b[0m\n\u001b[0;32m      7\u001b[0m \u001b[0mfig\u001b[0m \u001b[1;33m=\u001b[0m \u001b[0msm\u001b[0m\u001b[1;33m.\u001b[0m\u001b[0mgraphics\u001b[0m\u001b[1;33m.\u001b[0m\u001b[0mtsa\u001b[0m\u001b[1;33m.\u001b[0m\u001b[0mplot_pacf\u001b[0m\u001b[1;33m(\u001b[0m\u001b[0mdf1\u001b[0m\u001b[1;33m,\u001b[0m \u001b[0mlags\u001b[0m\u001b[1;33m=\u001b[0m\u001b[1;36m40\u001b[0m\u001b[1;33m,\u001b[0m \u001b[0max\u001b[0m\u001b[1;33m=\u001b[0m\u001b[0max2\u001b[0m\u001b[1;33m)\u001b[0m\u001b[1;33m\u001b[0m\u001b[1;33m\u001b[0m\u001b[0m\n",
      "\u001b[1;32mD:\\Anaconda\\lib\\site-packages\\pandas\\util\\_decorators.py\u001b[0m in \u001b[0;36mwrapper\u001b[1;34m(*args, **kwargs)\u001b[0m\n\u001b[0;32m    197\u001b[0m                 \u001b[1;32melse\u001b[0m\u001b[1;33m:\u001b[0m\u001b[1;33m\u001b[0m\u001b[1;33m\u001b[0m\u001b[0m\n\u001b[0;32m    198\u001b[0m                     \u001b[0mkwargs\u001b[0m\u001b[1;33m[\u001b[0m\u001b[0mnew_arg_name\u001b[0m\u001b[1;33m]\u001b[0m \u001b[1;33m=\u001b[0m \u001b[0mnew_arg_value\u001b[0m\u001b[1;33m\u001b[0m\u001b[1;33m\u001b[0m\u001b[0m\n\u001b[1;32m--> 199\u001b[1;33m             \u001b[1;32mreturn\u001b[0m \u001b[0mfunc\u001b[0m\u001b[1;33m(\u001b[0m\u001b[1;33m*\u001b[0m\u001b[0margs\u001b[0m\u001b[1;33m,\u001b[0m \u001b[1;33m**\u001b[0m\u001b[0mkwargs\u001b[0m\u001b[1;33m)\u001b[0m\u001b[1;33m\u001b[0m\u001b[1;33m\u001b[0m\u001b[0m\n\u001b[0m\u001b[0;32m    200\u001b[0m \u001b[1;33m\u001b[0m\u001b[0m\n\u001b[0;32m    201\u001b[0m         \u001b[1;32mreturn\u001b[0m \u001b[0mcast\u001b[0m\u001b[1;33m(\u001b[0m\u001b[0mF\u001b[0m\u001b[1;33m,\u001b[0m \u001b[0mwrapper\u001b[0m\u001b[1;33m)\u001b[0m\u001b[1;33m\u001b[0m\u001b[1;33m\u001b[0m\u001b[0m\n",
      "\u001b[1;32mD:\\Anaconda\\lib\\site-packages\\statsmodels\\graphics\\tsaplots.py\u001b[0m in \u001b[0;36mplot_acf\u001b[1;34m(x, ax, lags, alpha, use_vlines, adjusted, fft, missing, title, zero, vlines_kwargs, **kwargs)\u001b[0m\n\u001b[0;32m    175\u001b[0m     \u001b[0mconfint\u001b[0m \u001b[1;33m=\u001b[0m \u001b[1;32mNone\u001b[0m\u001b[1;33m\u001b[0m\u001b[1;33m\u001b[0m\u001b[0m\n\u001b[0;32m    176\u001b[0m     \u001b[1;31m# acf has different return type based on alpha\u001b[0m\u001b[1;33m\u001b[0m\u001b[1;33m\u001b[0m\u001b[1;33m\u001b[0m\u001b[0m\n\u001b[1;32m--> 177\u001b[1;33m     acf_x = acf(\n\u001b[0m\u001b[0;32m    178\u001b[0m         \u001b[0mx\u001b[0m\u001b[1;33m,\u001b[0m\u001b[1;33m\u001b[0m\u001b[1;33m\u001b[0m\u001b[0m\n\u001b[0;32m    179\u001b[0m         \u001b[0mnlags\u001b[0m\u001b[1;33m=\u001b[0m\u001b[0mnlags\u001b[0m\u001b[1;33m,\u001b[0m\u001b[1;33m\u001b[0m\u001b[1;33m\u001b[0m\u001b[0m\n",
      "\u001b[1;32mD:\\Anaconda\\lib\\site-packages\\pandas\\util\\_decorators.py\u001b[0m in \u001b[0;36mwrapper\u001b[1;34m(*args, **kwargs)\u001b[0m\n\u001b[0;32m    197\u001b[0m                 \u001b[1;32melse\u001b[0m\u001b[1;33m:\u001b[0m\u001b[1;33m\u001b[0m\u001b[1;33m\u001b[0m\u001b[0m\n\u001b[0;32m    198\u001b[0m                     \u001b[0mkwargs\u001b[0m\u001b[1;33m[\u001b[0m\u001b[0mnew_arg_name\u001b[0m\u001b[1;33m]\u001b[0m \u001b[1;33m=\u001b[0m \u001b[0mnew_arg_value\u001b[0m\u001b[1;33m\u001b[0m\u001b[1;33m\u001b[0m\u001b[0m\n\u001b[1;32m--> 199\u001b[1;33m             \u001b[1;32mreturn\u001b[0m \u001b[0mfunc\u001b[0m\u001b[1;33m(\u001b[0m\u001b[1;33m*\u001b[0m\u001b[0margs\u001b[0m\u001b[1;33m,\u001b[0m \u001b[1;33m**\u001b[0m\u001b[0mkwargs\u001b[0m\u001b[1;33m)\u001b[0m\u001b[1;33m\u001b[0m\u001b[1;33m\u001b[0m\u001b[0m\n\u001b[0m\u001b[0;32m    200\u001b[0m \u001b[1;33m\u001b[0m\u001b[0m\n\u001b[0;32m    201\u001b[0m         \u001b[1;32mreturn\u001b[0m \u001b[0mcast\u001b[0m\u001b[1;33m(\u001b[0m\u001b[0mF\u001b[0m\u001b[1;33m,\u001b[0m \u001b[0mwrapper\u001b[0m\u001b[1;33m)\u001b[0m\u001b[1;33m\u001b[0m\u001b[1;33m\u001b[0m\u001b[0m\n",
      "\u001b[1;32mD:\\Anaconda\\lib\\site-packages\\statsmodels\\tsa\\stattools.py\u001b[0m in \u001b[0;36macf\u001b[1;34m(x, adjusted, nlags, qstat, fft, alpha, missing)\u001b[0m\n\u001b[0;32m    672\u001b[0m         )\n\u001b[0;32m    673\u001b[0m         \u001b[0mfft\u001b[0m \u001b[1;33m=\u001b[0m \u001b[1;32mFalse\u001b[0m\u001b[1;33m\u001b[0m\u001b[1;33m\u001b[0m\u001b[0m\n\u001b[1;32m--> 674\u001b[1;33m     \u001b[0mx\u001b[0m \u001b[1;33m=\u001b[0m \u001b[0marray_like\u001b[0m\u001b[1;33m(\u001b[0m\u001b[0mx\u001b[0m\u001b[1;33m,\u001b[0m \u001b[1;34m\"x\"\u001b[0m\u001b[1;33m)\u001b[0m\u001b[1;33m\u001b[0m\u001b[1;33m\u001b[0m\u001b[0m\n\u001b[0m\u001b[0;32m    675\u001b[0m     \u001b[0mnobs\u001b[0m \u001b[1;33m=\u001b[0m \u001b[0mlen\u001b[0m\u001b[1;33m(\u001b[0m\u001b[0mx\u001b[0m\u001b[1;33m)\u001b[0m  \u001b[1;31m# TODO: should this shrink for missing=\"drop\" and NaNs in x?\u001b[0m\u001b[1;33m\u001b[0m\u001b[1;33m\u001b[0m\u001b[0m\n\u001b[0;32m    676\u001b[0m     \u001b[0mavf\u001b[0m \u001b[1;33m=\u001b[0m \u001b[0macovf\u001b[0m\u001b[1;33m(\u001b[0m\u001b[0mx\u001b[0m\u001b[1;33m,\u001b[0m \u001b[0madjusted\u001b[0m\u001b[1;33m=\u001b[0m\u001b[0madjusted\u001b[0m\u001b[1;33m,\u001b[0m \u001b[0mdemean\u001b[0m\u001b[1;33m=\u001b[0m\u001b[1;32mTrue\u001b[0m\u001b[1;33m,\u001b[0m \u001b[0mfft\u001b[0m\u001b[1;33m=\u001b[0m\u001b[0mfft\u001b[0m\u001b[1;33m,\u001b[0m \u001b[0mmissing\u001b[0m\u001b[1;33m=\u001b[0m\u001b[0mmissing\u001b[0m\u001b[1;33m)\u001b[0m\u001b[1;33m\u001b[0m\u001b[1;33m\u001b[0m\u001b[0m\n",
      "\u001b[1;32mD:\\Anaconda\\lib\\site-packages\\statsmodels\\tools\\validation\\validation.py\u001b[0m in \u001b[0;36marray_like\u001b[1;34m(obj, name, dtype, ndim, maxdim, shape, order, contiguous, optional)\u001b[0m\n\u001b[0;32m    145\u001b[0m         \u001b[1;32mif\u001b[0m \u001b[0marr\u001b[0m\u001b[1;33m.\u001b[0m\u001b[0mndim\u001b[0m \u001b[1;33m!=\u001b[0m \u001b[0mndim\u001b[0m\u001b[1;33m:\u001b[0m\u001b[1;33m\u001b[0m\u001b[1;33m\u001b[0m\u001b[0m\n\u001b[0;32m    146\u001b[0m             \u001b[0mmsg\u001b[0m \u001b[1;33m=\u001b[0m \u001b[1;34m\"{0} is required to have ndim {1} but has ndim {2}\"\u001b[0m\u001b[1;33m\u001b[0m\u001b[1;33m\u001b[0m\u001b[0m\n\u001b[1;32m--> 147\u001b[1;33m             \u001b[1;32mraise\u001b[0m \u001b[0mValueError\u001b[0m\u001b[1;33m(\u001b[0m\u001b[0mmsg\u001b[0m\u001b[1;33m.\u001b[0m\u001b[0mformat\u001b[0m\u001b[1;33m(\u001b[0m\u001b[0mname\u001b[0m\u001b[1;33m,\u001b[0m \u001b[0mndim\u001b[0m\u001b[1;33m,\u001b[0m \u001b[0marr\u001b[0m\u001b[1;33m.\u001b[0m\u001b[0mndim\u001b[0m\u001b[1;33m)\u001b[0m\u001b[1;33m)\u001b[0m\u001b[1;33m\u001b[0m\u001b[1;33m\u001b[0m\u001b[0m\n\u001b[0m\u001b[0;32m    148\u001b[0m     \u001b[1;32mif\u001b[0m \u001b[0mshape\u001b[0m \u001b[1;32mis\u001b[0m \u001b[1;32mnot\u001b[0m \u001b[1;32mNone\u001b[0m\u001b[1;33m:\u001b[0m\u001b[1;33m\u001b[0m\u001b[1;33m\u001b[0m\u001b[0m\n\u001b[0;32m    149\u001b[0m         \u001b[1;32mfor\u001b[0m \u001b[0mactual\u001b[0m\u001b[1;33m,\u001b[0m \u001b[0mreq\u001b[0m \u001b[1;32min\u001b[0m \u001b[0mzip\u001b[0m\u001b[1;33m(\u001b[0m\u001b[0marr\u001b[0m\u001b[1;33m.\u001b[0m\u001b[0mshape\u001b[0m\u001b[1;33m,\u001b[0m \u001b[0mshape\u001b[0m\u001b[1;33m)\u001b[0m\u001b[1;33m:\u001b[0m\u001b[1;33m\u001b[0m\u001b[1;33m\u001b[0m\u001b[0m\n",
      "\u001b[1;31mValueError\u001b[0m: x is required to have ndim 1 but has ndim 2"
     ]
    },
    {
     "data": {
      "image/png": "[encoded data removed]",
      "text/plain": [
       "<Figure size 864x576 with 1 Axes>"
      ]
     },
     "metadata": {
      "needs_background": "light"
     },
     "output_type": "display_data"
    }
   ],
   "source": [
    "#  plots in the notebook\n",
    "%matplotlib inline\n",
    "fig = plt.figure(figsize=(12,8))\n",
    "ax1 = fig.add_subplot(211)\n",
    "fig = sm.graphics.tsa.plot_acf(df1.values.squeeze(), lags=40, ax=ax1)\n",
    "ax2 = fig.add_subplot(212)\n",
    "fig = sm.graphics.tsa.plot_pacf(df1, lags=40, ax=ax2)\n",
    "ax3 = fig.add_subplot(213)\n",
    "fig = sm.graphics.tsa.plot_pacf(df1, lags=40, ax=ax3)"
   ]
  },
  {
   "cell_type": "code",
   "execution_count": 64,
   "id": "0047af7a",
   "metadata": {},
   "outputs": [
    {
     "data": {
      "text/plain": [
       "(108760, 15)"
      ]
     },
     "execution_count": 64,
     "metadata": {},
     "output_type": "execute_result"
    }
   ],
   "source": [
    "df.shape"
   ]
  },
  {
   "cell_type": "code",
   "execution_count": 79,
   "id": "2e703e14",
   "metadata": {},
   "outputs": [
    {
     "name": "stdout",
     "output_type": "stream",
     "text": [
      "training_data_size = 87008.0\n",
      "testing_data_size =  21752.0\n"
     ]
    }
   ],
   "source": [
    "print(\"training_data_size =\", 108760 * 0.8)\n",
    "print(\"testing_data_size = \",108760 * 0.2)"
   ]
  },
  {
   "cell_type": "code",
   "execution_count": 83,
   "id": "fc1d63a0",
   "metadata": {},
   "outputs": [],
   "source": [
    "training_data=df2[0:200]\n",
    "test_data=df2[200:400]"
   ]
  },
  {
   "cell_type": "code",
   "execution_count": 84,
   "id": "fd630de7",
   "metadata": {},
   "outputs": [],
   "source": [
    "from statsmodels.tsa.arima_model import ARIMA"
   ]
  },
  {
   "cell_type": "code",
   "execution_count": 85,
   "id": "7e82f41b",
   "metadata": {},
   "outputs": [
    {
     "name": "stderr",
     "output_type": "stream",
     "text": [
      "D:\\Anaconda\\lib\\site-packages\\statsmodels\\tsa\\base\\tsa_model.py:581: ValueWarning: A date index has been provided, but it has no associated frequency information and so will be ignored when e.g. forecasting.\n",
      "  warnings.warn('A date index has been provided, but it has no'\n",
      "D:\\Anaconda\\lib\\site-packages\\statsmodels\\tsa\\base\\tsa_model.py:581: ValueWarning: A date index has been provided, but it has no associated frequency information and so will be ignored when e.g. forecasting.\n",
      "  warnings.warn('A date index has been provided, but it has no'\n"
     ]
    }
   ],
   "source": [
    "arima= ARIMA(training_data,order=(2,1,3))"
   ]
  },
  {
   "cell_type": "code",
   "execution_count": 86,
   "id": "22940f8f",
   "metadata": {},
   "outputs": [
    {
     "name": "stderr",
     "output_type": "stream",
     "text": [
      "D:\\Anaconda\\lib\\site-packages\\statsmodels\\base\\model.py:547: HessianInversionWarning: Inverting hessian failed, no bse or cov_params available\n",
      "  warnings.warn('Inverting hessian failed, no bse or cov_params '\n",
      "D:\\Anaconda\\lib\\site-packages\\statsmodels\\base\\model.py:566: ConvergenceWarning: Maximum Likelihood optimization failed to converge. Check mle_retvals\n",
      "  warnings.warn(\"Maximum Likelihood optimization failed to \"\n",
      "D:\\Anaconda\\lib\\site-packages\\statsmodels\\tsa\\arima_model.py:472: FutureWarning: \n",
      "statsmodels.tsa.arima_model.ARMA and statsmodels.tsa.arima_model.ARIMA have\n",
      "been deprecated in favor of statsmodels.tsa.arima.model.ARIMA (note the .\n",
      "between arima and model) and\n",
      "statsmodels.tsa.SARIMAX. These will be removed after the 0.12 release.\n",
      "\n",
      "statsmodels.tsa.arima.model.ARIMA makes use of the statespace framework and\n",
      "is both well tested and maintained.\n",
      "\n",
      "To silence this warning and continue using ARMA and ARIMA until they are\n",
      "removed, use:\n",
      "\n",
      "import warnings\n",
      "warnings.filterwarnings('ignore', 'statsmodels.tsa.arima_model.ARMA',\n",
      "                        FutureWarning)\n",
      "warnings.filterwarnings('ignore', 'statsmodels.tsa.arima_model.ARIMA',\n",
      "                        FutureWarning)\n",
      "\n",
      "  warnings.warn(ARIMA_DEPRECATION_WARN, FutureWarning)\n"
     ]
    }
   ],
   "source": [
    "model=arima.fit()"
   ]
  },
  {
   "cell_type": "code",
   "execution_count": 87,
   "id": "82fc0bb7",
   "metadata": {},
   "outputs": [
    {
     "data": {
      "text/plain": [
       "2941.3441605742496"
      ]
     },
     "execution_count": 87,
     "metadata": {},
     "output_type": "execute_result"
    }
   ],
   "source": [
    "model.aic"
   ]
  },
  {
   "cell_type": "code",
   "execution_count": 94,
   "id": "e0e450cd",
   "metadata": {},
   "outputs": [
    {
     "data": {
      "text/plain": [
       "array([ -10.36965079,  -32.38487544,  -34.06309398,  -27.41706308,\n",
       "        -18.42152932,   -9.80697336,   -2.62532405,    2.8913667 ,\n",
       "          6.87356515,    9.58064085,   11.28911582,   12.24520231,\n",
       "         12.64970781,   12.65805085,   12.38637999,   11.9193349 ,\n",
       "         11.31742551,   10.62326316,    9.86648877,    9.06751077,\n",
       "          8.2402588 ,    7.39416879,    6.53559027,    5.6687706 ,\n",
       "          4.79653578,    3.9207569 ,    3.04266727,    2.16307639,\n",
       "          1.28251352,    0.40132339,   -0.48027022,   -1.36212256,\n",
       "         -2.24414031,   -3.12626348,   -4.00845363,   -4.89068621,\n",
       "         -5.7729456 ,   -6.65522186,   -7.53750871,   -8.41980219,\n",
       "         -9.3020998 ,  -10.18439998,  -11.06670175,  -11.9490045 ,\n",
       "        -12.83130785,  -13.71361157,  -14.59591551,  -15.47821959,\n",
       "        -16.36052375,  -17.24282796,  -18.1251322 ,  -19.00743646,\n",
       "        -19.88974072,  -20.772045  ,  -21.65434927,  -22.53665355,\n",
       "        -23.41895783,  -24.30126211,  -25.18356639,  -26.06587066,\n",
       "        -26.94817494,  -27.83047922,  -28.7127835 ,  -29.59508778,\n",
       "        -30.47739206,  -31.35969634,  -32.24200062,  -33.1243049 ,\n",
       "        -34.00660918,  -34.88891346,  -35.77121774,  -36.65352202,\n",
       "        -37.53582629,  -38.41813057,  -39.30043485,  -40.18273913,\n",
       "        -41.06504341,  -41.94734769,  -42.82965197,  -43.71195625,\n",
       "        -44.59426053,  -45.47656481,  -46.35886909,  -47.24117337,\n",
       "        -48.12347765,  -49.00578192,  -49.8880862 ,  -50.77039048,\n",
       "        -51.65269476,  -52.53499904,  -53.41730332,  -54.2996076 ,\n",
       "        -55.18191188,  -56.06421616,  -56.94652044,  -57.82882472,\n",
       "        -58.711129  ,  -59.59343328,  -60.47573755,  -61.35804183,\n",
       "        -62.24034611,  -63.12265039,  -64.00495467,  -64.88725895,\n",
       "        -65.76956323,  -66.65186751,  -67.53417179,  -68.41647607,\n",
       "        -69.29878035,  -70.18108463,  -71.06338891,  -71.94569318,\n",
       "        -72.82799746,  -73.71030174,  -74.59260602,  -75.4749103 ,\n",
       "        -76.35721458,  -77.23951886,  -78.12182314,  -79.00412742,\n",
       "        -79.8864317 ,  -80.76873598,  -81.65104026,  -82.53334453,\n",
       "        -83.41564881,  -84.29795309,  -85.18025737,  -86.06256165,\n",
       "        -86.94486593,  -87.82717021,  -88.70947449,  -89.59177877,\n",
       "        -90.47408305,  -91.35638733,  -92.23869161,  -93.12099589,\n",
       "        -94.00330016,  -94.88560444,  -95.76790872,  -96.650213  ,\n",
       "        -97.53251728,  -98.41482156,  -99.29712584, -100.17943012,\n",
       "       -101.0617344 , -101.94403868, -102.82634296, -103.70864724,\n",
       "       -104.59095152, -105.47325579, -106.35556007, -107.23786435,\n",
       "       -108.12016863, -109.00247291, -109.88477719, -110.76708147,\n",
       "       -111.64938575, -112.53169003, -113.41399431, -114.29629859,\n",
       "       -115.17860287, -116.06090714, -116.94321142, -117.8255157 ,\n",
       "       -118.70781998, -119.59012426, -120.47242854, -121.35473282,\n",
       "       -122.2370371 , -123.11934138, -124.00164566, -124.88394994,\n",
       "       -125.76625422, -126.6485585 , -127.53086277, -128.41316705,\n",
       "       -129.29547133, -130.17777561, -131.06007989, -131.94238417,\n",
       "       -132.82468845, -133.70699273, -134.58929701, -135.47160129,\n",
       "       -136.35390557, -137.23620985, -138.11851413, -139.0008184 ,\n",
       "       -139.88312268, -140.76542696, -141.64773124, -142.53003552,\n",
       "       -143.4123398 , -144.29464408, -145.17694836, -146.05925264,\n",
       "       -146.94155692, -147.8238612 , -148.70616548, -149.58846975])"
      ]
     },
     "execution_count": 94,
     "metadata": {},
     "output_type": "execute_result"
    }
   ],
   "source": [
    "pred= model.forecast(steps=200)[0]\n",
    "pred"
   ]
  },
  {
   "cell_type": "code",
   "execution_count": 95,
   "id": "fcedc843",
   "metadata": {},
   "outputs": [],
   "source": [
    "from sklearn.metrics import mean_squared_error"
   ]
  },
  {
   "cell_type": "code",
   "execution_count": 96,
   "id": "03b90f20",
   "metadata": {},
   "outputs": [
    {
     "data": {
      "text/plain": [
       "447.61003651685655"
      ]
     },
     "execution_count": 96,
     "metadata": {},
     "output_type": "execute_result"
    }
   ],
   "source": [
    "import numpy as np\n",
    "np.sqrt(mean_squared_error(test_data,pred))"
   ]
  },
  {
   "cell_type": "code",
   "execution_count": 97,
   "id": "83b30a84",
   "metadata": {},
   "outputs": [],
   "source": [
    "#This was the sample ARIMA done at preliminary stage"
   ]
  },
  {
   "cell_type": "markdown",
   "id": "a4fd4efa",
   "metadata": {},
   "source": [
    "# time Series Model Building"
   ]
  },
  {
   "cell_type": "code",
   "execution_count": 98,
   "id": "b624365c",
   "metadata": {},
   "outputs": [],
   "source": [
    "#Import Packages again\n",
    "import numpy as np\n",
    "from scipy import stats\n",
    "import pandas as pd\n",
    "import matplotlib.pyplot as plt\n",
    "import statsmodels.api as sm\n",
    "\n",
    "from statsmodels.graphics.api import qqplot"
   ]
  },
  {
   "cell_type": "code",
   "execution_count": 99,
   "id": "3679a0e7",
   "metadata": {},
   "outputs": [
    {
     "data": {
      "text/html": [
       "<div>\n",
       "<style scoped>\n",
       "    .dataframe tbody tr th:only-of-type {\n",
       "        vertical-align: middle;\n",
       "    }\n",
       "\n",
       "    .dataframe tbody tr th {\n",
       "        vertical-align: top;\n",
       "    }\n",
       "\n",
       "    .dataframe thead th {\n",
       "        text-align: right;\n",
       "    }\n",
       "</style>\n",
       "<table border=\"1\" class=\"dataframe\">\n",
       "  <thead>\n",
       "    <tr style=\"text-align: right;\">\n",
       "      <th></th>\n",
       "      <th>numbers_tested</th>\n",
       "    </tr>\n",
       "    <tr>\n",
       "      <th>date</th>\n",
       "      <th></th>\n",
       "    </tr>\n",
       "  </thead>\n",
       "  <tbody>\n",
       "    <tr>\n",
       "      <th>2018-01-01</th>\n",
       "      <td>2562</td>\n",
       "    </tr>\n",
       "    <tr>\n",
       "      <th>2018-01-01</th>\n",
       "      <td>2410</td>\n",
       "    </tr>\n",
       "    <tr>\n",
       "      <th>2018-01-01</th>\n",
       "      <td>207</td>\n",
       "    </tr>\n",
       "    <tr>\n",
       "      <th>2018-01-01</th>\n",
       "      <td>62</td>\n",
       "    </tr>\n",
       "    <tr>\n",
       "      <th>2018-01-01</th>\n",
       "      <td>13</td>\n",
       "    </tr>\n",
       "    <tr>\n",
       "      <th>...</th>\n",
       "      <td>...</td>\n",
       "    </tr>\n",
       "    <tr>\n",
       "      <th>2021-03-25</th>\n",
       "      <td>2</td>\n",
       "    </tr>\n",
       "    <tr>\n",
       "      <th>2021-03-25</th>\n",
       "      <td>7</td>\n",
       "    </tr>\n",
       "    <tr>\n",
       "      <th>2021-03-25</th>\n",
       "      <td>121</td>\n",
       "    </tr>\n",
       "    <tr>\n",
       "      <th>2021-03-25</th>\n",
       "      <td>0</td>\n",
       "    </tr>\n",
       "    <tr>\n",
       "      <th>2021-03-25</th>\n",
       "      <td>0</td>\n",
       "    </tr>\n",
       "  </tbody>\n",
       "</table>\n",
       "<p>108760 rows × 1 columns</p>\n",
       "</div>"
      ],
      "text/plain": [
       "            numbers_tested\n",
       "date                      \n",
       "2018-01-01            2562\n",
       "2018-01-01            2410\n",
       "2018-01-01             207\n",
       "2018-01-01              62\n",
       "2018-01-01              13\n",
       "...                    ...\n",
       "2021-03-25               2\n",
       "2021-03-25               7\n",
       "2021-03-25             121\n",
       "2021-03-25               0\n",
       "2021-03-25               0\n",
       "\n",
       "[108760 rows x 1 columns]"
      ]
     },
     "execution_count": 99,
     "metadata": {},
     "output_type": "execute_result"
    }
   ],
   "source": [
    "df2"
   ]
  },
  {
   "cell_type": "code",
   "execution_count": 100,
   "id": "205eb0a1",
   "metadata": {},
   "outputs": [
    {
     "data": {
      "text/plain": [
       "'C:\\\\Users\\\\91820'"
      ]
     },
     "execution_count": 100,
     "metadata": {},
     "output_type": "execute_result"
    }
   ],
   "source": [
    "pwd()"
   ]
  },
  {
   "cell_type": "code",
   "execution_count": 101,
   "id": "903e9cd5",
   "metadata": {},
   "outputs": [
    {
     "data": {
      "image/png": "[encoded data removed]",
      "text/plain": [
       "<Figure size 864x576 with 1 Axes>"
      ]
     },
     "metadata": {
      "needs_background": "light"
     },
     "output_type": "display_data"
    }
   ],
   "source": [
    "# show plots in the notebook\n",
    "%matplotlib inline\n",
    "df2.plot(figsize=(12,8));"
   ]
  },
  {
   "cell_type": "code",
   "execution_count": 102,
   "id": "14a1204a",
   "metadata": {},
   "outputs": [
    {
     "data": {
      "text/plain": [
       "array([1.75160154])"
      ]
     },
     "execution_count": 102,
     "metadata": {},
     "output_type": "execute_result"
    }
   ],
   "source": [
    "sm.stats.durbin_watson(df2)"
   ]
  },
  {
   "cell_type": "code",
   "execution_count": 103,
   "id": "51bc00f6",
   "metadata": {},
   "outputs": [
    {
     "data": {
      "image/png": "[encoded data removed]",
      "text/plain": [
       "<Figure size 864x576 with 2 Axes>"
      ]
     },
     "metadata": {
      "needs_background": "light"
     },
     "output_type": "display_data"
    }
   ],
   "source": [
    "# show plots in the notebook\n",
    "%matplotlib inline\n",
    "fig = plt.figure(figsize=(12,8))\n",
    "ax1 = fig.add_subplot(211)\n",
    "fig = sm.graphics.tsa.plot_acf(df2.values.squeeze(), lags=40, ax=ax1)\n",
    "ax2 = fig.add_subplot(212)\n",
    "fig = sm.graphics.tsa.plot_pacf(df2, lags=40, ax=ax2)"
   ]
  },
  {
   "cell_type": "code",
   "execution_count": 104,
   "id": "49d03afb",
   "metadata": {},
   "outputs": [
    {
     "data": {
      "text/plain": [
       "<AxesSubplot:xlabel='date'>"
      ]
     },
     "execution_count": 104,
     "metadata": {},
     "output_type": "execute_result"
    },
    {
     "data": {
      "image/png": "[encoded data removed]",
      "text/plain": [
       "<Figure size 864x576 with 1 Axes>"
      ]
     },
     "metadata": {
      "needs_background": "light"
     },
     "output_type": "display_data"
    }
   ],
   "source": [
    "df2.plot(figsize=(12,8))"
   ]
  },
  {
   "cell_type": "code",
   "execution_count": 108,
   "id": "773aaaa2",
   "metadata": {},
   "outputs": [
    {
     "data": {
      "image/png": "[encoded data removed]",
      "text/plain": [
       "<Figure size 432x288 with 1 Axes>"
      ]
     },
     "metadata": {
      "needs_background": "light"
     },
     "output_type": "display_data"
    },
    {
     "data": {
      "image/png": "[encoded data removed]",
      "text/plain": [
       "<Figure size 432x288 with 1 Axes>"
      ]
     },
     "metadata": {
      "needs_background": "light"
     },
     "output_type": "display_data"
    }
   ],
   "source": [
    "from pandas.plotting import autocorrelation_plot\n",
    "# show plots in the notebook\n",
    "%matplotlib inline\n",
    "df2['numbers_tested_2'] = df2['numbers_tested']\n",
    "df2['numbers_tested_2'] = (df2['numbers_tested_2'] - df2['numbers_tested_2'].mean()) / (df2['numbers_tested_2'].std())\n",
    "plt.acorr(df2['numbers_tested_2'],maxlags = len(df2['numbers_tested_2']) -1, linestyle = \"solid\", usevlines = False, marker='')\n",
    "plt.show()\n",
    "autocorrelation_plot(df2['numbers_tested'])\n",
    "plt.show()"
   ]
  },
  {
   "cell_type": "code",
   "execution_count": 110,
   "id": "8c719001",
   "metadata": {},
   "outputs": [
    {
     "name": "stderr",
     "output_type": "stream",
     "text": [
      "D:\\Anaconda\\lib\\site-packages\\statsmodels\\tsa\\arima_model.py:472: FutureWarning: \n",
      "statsmodels.tsa.arima_model.ARMA and statsmodels.tsa.arima_model.ARIMA have\n",
      "been deprecated in favor of statsmodels.tsa.arima.model.ARIMA (note the .\n",
      "between arima and model) and\n",
      "statsmodels.tsa.SARIMAX. These will be removed after the 0.12 release.\n",
      "\n",
      "statsmodels.tsa.arima.model.ARIMA makes use of the statespace framework and\n",
      "is both well tested and maintained.\n",
      "\n",
      "To silence this warning and continue using ARMA and ARIMA until they are\n",
      "removed, use:\n",
      "\n",
      "import warnings\n",
      "warnings.filterwarnings('ignore', 'statsmodels.tsa.arima_model.ARMA',\n",
      "                        FutureWarning)\n",
      "warnings.filterwarnings('ignore', 'statsmodels.tsa.arima_model.ARIMA',\n",
      "                        FutureWarning)\n",
      "\n",
      "  warnings.warn(ARIMA_DEPRECATION_WARN, FutureWarning)\n",
      "D:\\Anaconda\\lib\\site-packages\\statsmodels\\tsa\\base\\tsa_model.py:581: ValueWarning: A date index has been provided, but it has no associated frequency information and so will be ignored when e.g. forecasting.\n",
      "  warnings.warn('A date index has been provided, but it has no'\n"
     ]
    },
    {
     "name": "stdout",
     "output_type": "stream",
     "text": [
      "const                   68.404800\n",
      "ar.L1.numbers_tested     0.086679\n",
      "dtype: float64\n"
     ]
    }
   ],
   "source": [
    "arma_mod20 = sm.tsa.ARMA(df2['numbers_tested'], (1,0)).fit()\n",
    "print(arma_mod20.params)"
   ]
  },
  {
   "cell_type": "code",
   "execution_count": 111,
   "id": "5cc63625",
   "metadata": {},
   "outputs": [
    {
     "name": "stdout",
     "output_type": "stream",
     "text": [
      "1570203.6425249802 1570232.4332216764 1570212.3469513366\n"
     ]
    }
   ],
   "source": [
    "print(arma_mod20.aic, arma_mod20.bic, arma_mod20.hqic)"
   ]
  },
  {
   "cell_type": "code",
   "execution_count": 112,
   "id": "60c6bff9",
   "metadata": {},
   "outputs": [
    {
     "data": {
      "text/plain": [
       "2.006564797201331"
      ]
     },
     "execution_count": 112,
     "metadata": {},
     "output_type": "execute_result"
    }
   ],
   "source": [
    "sm.stats.durbin_watson(arma_mod20.resid.values)"
   ]
  },
  {
   "cell_type": "markdown",
   "id": "f8144b7e",
   "metadata": {},
   "source": [
    "# Plot the data"
   ]
  },
  {
   "cell_type": "code",
   "execution_count": 113,
   "id": "b8e53c93",
   "metadata": {},
   "outputs": [
    {
     "data": {
      "image/png": "[encoded data removed]",
      "text/plain": [
       "<Figure size 864x576 with 1 Axes>"
      ]
     },
     "metadata": {
      "needs_background": "light"
     },
     "output_type": "display_data"
    }
   ],
   "source": [
    "\n",
    "%matplotlib inline\n",
    "fig = plt.figure(figsize=(12,8))\n",
    "ax = fig.add_subplot(111)\n",
    "ax = arma_mod20.resid.plot(ax=ax);"
   ]
  },
  {
   "cell_type": "code",
   "execution_count": 114,
   "id": "755ca039",
   "metadata": {},
   "outputs": [
    {
     "data": {
      "text/plain": [
       "NormaltestResult(statistic=167415.04980386002, pvalue=0.0)"
      ]
     },
     "execution_count": 114,
     "metadata": {},
     "output_type": "execute_result"
    }
   ],
   "source": [
    "resid20 = arma_mod20.resid\n",
    "stats.normaltest(resid20)"
   ]
  },
  {
   "cell_type": "code",
   "execution_count": 115,
   "id": "bce08d52",
   "metadata": {},
   "outputs": [
    {
     "data": {
      "image/png": "[encoded data removed]",
      "text/plain": [
       "<Figure size 864x576 with 1 Axes>"
      ]
     },
     "metadata": {
      "needs_background": "light"
     },
     "output_type": "display_data"
    }
   ],
   "source": [
    "%matplotlib inline\n",
    "fig = plt.figure(figsize=(12,8))\n",
    "ax = fig.add_subplot(111)\n",
    "fig = qqplot(resid20, line='q', ax=ax, fit=True)"
   ]
  },
  {
   "cell_type": "code",
   "execution_count": 116,
   "id": "14e6629a",
   "metadata": {},
   "outputs": [
    {
     "data": {
      "image/png": "[encoded data removed]",
      "text/plain": [
       "<Figure size 864x576 with 2 Axes>"
      ]
     },
     "metadata": {
      "needs_background": "light"
     },
     "output_type": "display_data"
    }
   ],
   "source": [
    "%matplotlib inline\n",
    "fig = plt.figure(figsize=(12,8))\n",
    "ax1 = fig.add_subplot(211)\n",
    "fig = sm.graphics.tsa.plot_acf(resid20.values.squeeze(), lags=40, ax=ax1)\n",
    "ax2 = fig.add_subplot(212)\n",
    "fig = sm.graphics.tsa.plot_pacf(resid20, lags=40, ax=ax2)"
   ]
  },
  {
   "cell_type": "code",
   "execution_count": 117,
   "id": "fa32243b",
   "metadata": {},
   "outputs": [
    {
     "name": "stderr",
     "output_type": "stream",
     "text": [
      "D:\\Anaconda\\lib\\site-packages\\statsmodels\\tsa\\stattools.py:657: FutureWarning: The default number of lags is changing from 40 tomin(int(10 * np.log10(nobs)), nobs - 1) after 0.12is released. Set the number of lags to an integer to  silence this warning.\n",
      "  warnings.warn(\n",
      "D:\\Anaconda\\lib\\site-packages\\statsmodels\\tsa\\stattools.py:667: FutureWarning: fft=True will become the default after the release of the 0.12 release of statsmodels. To suppress this warning, explicitly set fft=False.\n",
      "  warnings.warn(\n"
     ]
    },
    {
     "name": "stdout",
     "output_type": "stream",
     "text": [
      "            AC            Q       Prob(>Q)\n",
      "lag                                       \n",
      "1.0  -0.003545     1.366629   2.423920e-01\n",
      "2.0   0.039535   171.363155   6.151255e-38\n",
      "3.0   0.008931   180.037695   8.656166e-39\n",
      "4.0   0.011389   194.145508   6.813764e-41\n",
      "5.0  -0.024628   260.118363   3.703306e-54\n",
      "6.0   0.023767   321.556006   1.958060e-66\n",
      "7.0  -0.022095   374.657946   6.453575e-77\n",
      "8.0  -0.024964   442.445591   1.536037e-90\n",
      "9.0  -0.007177   448.048108   7.495217e-91\n",
      "10.0 -0.018153   483.890061   1.220319e-97\n",
      "11.0 -0.018227   520.028752  1.711492e-104\n",
      "12.0 -0.016808   550.758448  3.409774e-110\n",
      "13.0  0.003753   552.290498  1.115281e-109\n",
      "14.0 -0.014392   574.820904  1.207923e-113\n",
      "15.0 -0.008371   582.443947  1.901063e-114\n",
      "16.0 -0.002991   583.417405  7.503203e-114\n",
      "17.0 -0.007393   589.363532  2.543594e-114\n",
      "18.0 -0.012946   607.595217  2.133436e-117\n",
      "19.0  0.018066   643.099734  3.974316e-124\n",
      "20.0  0.032561   758.432955  9.311106e-148\n",
      "21.0  0.031726   867.924431  3.496642e-170\n",
      "22.0  0.006899   873.101957  1.815289e-170\n",
      "23.0 -0.015524   899.317690  3.203539e-175\n",
      "24.0 -0.009160   908.444529  2.361547e-176\n",
      "25.0 -0.009514   918.292299  1.209384e-177\n",
      "26.0  0.001742   918.622512  6.310672e-177\n",
      "27.0 -0.002453   919.277230  2.757438e-176\n",
      "28.0  0.000597   919.316025  1.595386e-175\n",
      "29.0 -0.010545   931.413836  2.599298e-177\n",
      "30.0 -0.010694   943.855507  3.558602e-179\n",
      "31.0 -0.008192   951.156147  5.852828e-180\n",
      "32.0 -0.013119   969.880234  3.763756e-183\n",
      "33.0 -0.015892   997.356463  3.479600e-188\n",
      "34.0 -0.010287  1008.869918  7.326784e-190\n",
      "35.0 -0.005676  1012.374422  7.388108e-190\n",
      "36.0 -0.013791  1033.066646  1.813577e-193\n",
      "37.0 -0.015369  1058.764707  3.953773e-198\n",
      "38.0 -0.012204  1074.968382  8.483748e-201\n",
      "39.0 -0.013903  1096.000317  1.762069e-204\n",
      "40.0 -0.012748  1113.682080  1.844407e-207\n"
     ]
    }
   ],
   "source": [
    "r,q,p = sm.tsa.acf(resid20.values.squeeze(), qstat=True)\n",
    "data = np.c_[range(1,41), r[1:], q, p]\n",
    "table = pd.DataFrame(data, columns=['lag', \"AC\", \"Q\", \"Prob(>Q)\"])\n",
    "print(table.set_index('lag'))"
   ]
  },
  {
   "cell_type": "code",
   "execution_count": 125,
   "id": "9de0669c",
   "metadata": {},
   "outputs": [
    {
     "data": {
      "text/html": [
       "<div>\n",
       "<style scoped>\n",
       "    .dataframe tbody tr th:only-of-type {\n",
       "        vertical-align: middle;\n",
       "    }\n",
       "\n",
       "    .dataframe tbody tr th {\n",
       "        vertical-align: top;\n",
       "    }\n",
       "\n",
       "    .dataframe thead th {\n",
       "        text-align: right;\n",
       "    }\n",
       "</style>\n",
       "<table border=\"1\" class=\"dataframe\">\n",
       "  <thead>\n",
       "    <tr style=\"text-align: right;\">\n",
       "      <th></th>\n",
       "      <th>numbers_tested</th>\n",
       "      <th>numbers_tested_2</th>\n",
       "    </tr>\n",
       "    <tr>\n",
       "      <th>date</th>\n",
       "      <th></th>\n",
       "      <th></th>\n",
       "    </tr>\n",
       "  </thead>\n",
       "  <tbody>\n",
       "    <tr>\n",
       "      <th>2021-03-25</th>\n",
       "      <td>2</td>\n",
       "      <td>-0.200348</td>\n",
       "    </tr>\n",
       "    <tr>\n",
       "      <th>2021-03-25</th>\n",
       "      <td>7</td>\n",
       "      <td>-0.185262</td>\n",
       "    </tr>\n",
       "    <tr>\n",
       "      <th>2021-03-25</th>\n",
       "      <td>121</td>\n",
       "      <td>0.158683</td>\n",
       "    </tr>\n",
       "    <tr>\n",
       "      <th>2021-03-25</th>\n",
       "      <td>0</td>\n",
       "      <td>-0.206382</td>\n",
       "    </tr>\n",
       "    <tr>\n",
       "      <th>2021-03-25</th>\n",
       "      <td>0</td>\n",
       "      <td>-0.206382</td>\n",
       "    </tr>\n",
       "  </tbody>\n",
       "</table>\n",
       "</div>"
      ],
      "text/plain": [
       "            numbers_tested  numbers_tested_2\n",
       "date                                        \n",
       "2021-03-25               2         -0.200348\n",
       "2021-03-25               7         -0.185262\n",
       "2021-03-25             121          0.158683\n",
       "2021-03-25               0         -0.206382\n",
       "2021-03-25               0         -0.206382"
      ]
     },
     "execution_count": 125,
     "metadata": {},
     "output_type": "execute_result"
    }
   ],
   "source": [
    "df2.tail()"
   ]
  },
  {
   "cell_type": "code",
   "execution_count": 148,
   "id": "b1ec2dbd",
   "metadata": {},
   "outputs": [
    {
     "name": "stdout",
     "output_type": "stream",
     "text": [
      "date\n",
      "2021-01-01    65.509289\n",
      "2021-01-01    68.153819\n",
      "2021-01-01    68.383045\n",
      "2021-01-01    68.402915\n",
      "2021-01-01    68.404637\n",
      "                ...    \n",
      "2021-03-24    68.404800\n",
      "2021-03-24    68.404800\n",
      "2021-03-24    68.404800\n",
      "2021-03-24    68.404800\n",
      "2021-03-25    68.404800\n",
      "Length: 8833, dtype: float64\n"
     ]
    }
   ],
   "source": [
    "predict_test20 = arma_mod20.predict('2021-01-01', '2021-03-25', dynamic=True)\n",
    "print(predict_test20)"
   ]
  },
  {
   "cell_type": "code",
   "execution_count": 146,
   "id": "50463d28",
   "metadata": {},
   "outputs": [
    {
     "data": {
      "image/png": "[encoded data removed]",
      "text/plain": [
       "<Figure size 864x576 with 1 Axes>"
      ]
     },
     "metadata": {
      "needs_background": "light"
     },
     "output_type": "display_data"
    }
   ],
   "source": [
    "ax = df2.loc['2021-01-01':'2021-01-31'].plot(figsize=(12,8))\n",
    "ax = predict_test20.plot(ax=ax, style='r--', label='Dynamic Prediction');\n",
    "ax.legend();\n",
    "ax.axis((-20.0, 38.0, -4.0, 200.0));"
   ]
  },
  {
   "cell_type": "markdown",
   "id": "83f89594",
   "metadata": {},
   "source": [
    "##Errors"
   ]
  },
  {
   "cell_type": "code",
   "execution_count": 137,
   "id": "1dd3d00e",
   "metadata": {},
   "outputs": [],
   "source": [
    "def mean_forecast_err(y, yhat):\n",
    "    return y.sub(yhat).mean()\n",
    "\n",
    "def mean_absolute_err(y, yhat):\n",
    "    return np.mean((np.abs(y.sub(yhat).mean()) / yhat)) # or percent error = * 100"
   ]
  },
  {
   "cell_type": "code",
   "execution_count": 138,
   "id": "0d7ca809",
   "metadata": {},
   "outputs": [
    {
     "name": "stdout",
     "output_type": "stream",
     "text": [
      "MFE =  18.26752748385035\n",
      "MAE =  0.2670518318786105\n"
     ]
    }
   ],
   "source": [
    "print(\"MFE = \", mean_forecast_err(df2.numbers_tested, predict_test20))\n",
    "print(\"MAE = \", mean_absolute_err(df2.numbers_tested, predict_test20))"
   ]
  },
  {
   "cell_type": "code",
   "execution_count": 139,
   "id": "00d9578e",
   "metadata": {},
   "outputs": [],
   "source": [
    "#Here MFE > 0, models tends to under-forecast."
   ]
  },
  {
   "cell_type": "code",
   "execution_count": 140,
   "id": "57e88974",
   "metadata": {},
   "outputs": [],
   "source": [
    "#However, as long as the tracking signal is between –4 and 4, we assume the model is working correctly. "
   ]
  },
  {
   "cell_type": "code",
   "execution_count": null,
   "id": "2f9939bb",
   "metadata": {},
   "outputs": [],
   "source": [
    "#The measure of MAE being small would indicate a pretty good fit."
   ]
  }
 ],
 "metadata": {
  "kernelspec": {
   "display_name": "Python 3",
   "language": "python",
   "name": "python3"
  },
  "language_info": {
   "codemirror_mode": {
    "name": "ipython",
    "version": 3
   },
   "file_extension": ".py",
   "mimetype": "text/x-python",
   "name": "python",
   "nbconvert_exporter": "python",
   "pygments_lexer": "ipython3",
   "version": "3.8.8"
  }
 },
 "nbformat": 4,
 "nbformat_minor": 5
}
